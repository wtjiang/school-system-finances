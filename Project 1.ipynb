{
 "cells": [
  {
   "cell_type": "markdown",
   "metadata": {},
   "source": [
    "<h2> We chose the School System Finances dataset.</h1>"
   ]
  },
  {
   "cell_type": "code",
   "execution_count": 1,
   "metadata": {
    "collapsed": true
   },
   "outputs": [],
   "source": [
    "import pandas as pd\n",
    "import numpy as np\n",
    "import matplotlib.pyplot as plt\n",
    "from collections import defaultdict\n",
    "import datetime as dt\n",
    "import matplotlib.dates as mdates\n",
    "# import folium\n",
    "import missingno as msno\n",
    "import seaborn as sns\n",
    "sns.set()\n",
    "import statsmodels.api as sm\n",
    "from sklearn.feature_selection import RFECV\n",
    "from sklearn.linear_model import LinearRegression\n",
    "from sklearn.linear_model import LogisticRegression\n",
    "from sklearn.cross_validation import train_test_split\n",
    "from sklearn import metrics\n",
    "from sklearn.cross_validation import cross_val_score\n",
    "%matplotlib inline"
   ]
  },
  {
   "cell_type": "code",
   "execution_count": 2,
   "metadata": {
    "collapsed": false
   },
   "outputs": [
    {
     "name": "stderr",
     "output_type": "stream",
     "text": [
      "/Applications/anaconda/lib/python3.5/site-packages/IPython/core/interactiveshell.py:2717: DtypeWarning: Columns (7) have mixed types. Specify dtype option on import or set low_memory=False.\n",
      "  interactivity=interactivity, compiler=compiler, result=result)\n"
     ]
    }
   ],
   "source": [
    "sf = pd.read_csv('School Finances.csv', index_col=False)"
   ]
  },
  {
   "cell_type": "code",
   "execution_count": 3,
   "metadata": {
    "collapsed": false
   },
   "outputs": [
    {
     "data": {
      "text/html": [
       "<div>\n",
       "<table border=\"1\" class=\"dataframe\">\n",
       "  <thead>\n",
       "    <tr style=\"text-align: right;\">\n",
       "      <th></th>\n",
       "      <th>STATE</th>\n",
       "      <th>IDCENSUS</th>\n",
       "      <th>NAME</th>\n",
       "      <th>CONUM</th>\n",
       "      <th>CSA</th>\n",
       "      <th>CBSA</th>\n",
       "      <th>SCHLEV</th>\n",
       "      <th>NCESID</th>\n",
       "      <th>YRDATA</th>\n",
       "      <th>V33</th>\n",
       "      <th>...</th>\n",
       "      <th>V32</th>\n",
       "      <th>_19H</th>\n",
       "      <th>_21F</th>\n",
       "      <th>_31F</th>\n",
       "      <th>_41F</th>\n",
       "      <th>_61V</th>\n",
       "      <th>_66V</th>\n",
       "      <th>W01</th>\n",
       "      <th>W31</th>\n",
       "      <th>W61</th>\n",
       "    </tr>\n",
       "  </thead>\n",
       "  <tbody>\n",
       "    <tr>\n",
       "      <th>0</th>\n",
       "      <td>1</td>\n",
       "      <td>1.500100e+12</td>\n",
       "      <td>AUTAUGA COUNTY SCHOOL DISTRICT</td>\n",
       "      <td>1001</td>\n",
       "      <td>N</td>\n",
       "      <td>33860</td>\n",
       "      <td>3</td>\n",
       "      <td>100240</td>\n",
       "      <td>15</td>\n",
       "      <td>9664</td>\n",
       "      <td>...</td>\n",
       "      <td>0</td>\n",
       "      <td>49431</td>\n",
       "      <td>16603</td>\n",
       "      <td>2992</td>\n",
       "      <td>63042</td>\n",
       "      <td>0</td>\n",
       "      <td>0</td>\n",
       "      <td>2094</td>\n",
       "      <td>372</td>\n",
       "      <td>8617</td>\n",
       "    </tr>\n",
       "    <tr>\n",
       "      <th>1</th>\n",
       "      <td>1</td>\n",
       "      <td>1.500200e+12</td>\n",
       "      <td>BALDWIN COUNTY SCHOOL DISTRICT</td>\n",
       "      <td>1003</td>\n",
       "      <td>380</td>\n",
       "      <td>19300</td>\n",
       "      <td>3</td>\n",
       "      <td>100270</td>\n",
       "      <td>15</td>\n",
       "      <td>30596</td>\n",
       "      <td>...</td>\n",
       "      <td>0</td>\n",
       "      <td>337160</td>\n",
       "      <td>99087</td>\n",
       "      <td>13027</td>\n",
       "      <td>423220</td>\n",
       "      <td>0</td>\n",
       "      <td>0</td>\n",
       "      <td>5784</td>\n",
       "      <td>50441</td>\n",
       "      <td>71370</td>\n",
       "    </tr>\n",
       "    <tr>\n",
       "      <th>2</th>\n",
       "      <td>1</td>\n",
       "      <td>1.500300e+12</td>\n",
       "      <td>BARBOUR COUNTY SCHOOL DISTRICT</td>\n",
       "      <td>1005</td>\n",
       "      <td>N</td>\n",
       "      <td>N</td>\n",
       "      <td>3</td>\n",
       "      <td>100300</td>\n",
       "      <td>15</td>\n",
       "      <td>925</td>\n",
       "      <td>...</td>\n",
       "      <td>0</td>\n",
       "      <td>8024</td>\n",
       "      <td>0</td>\n",
       "      <td>304</td>\n",
       "      <td>7720</td>\n",
       "      <td>0</td>\n",
       "      <td>0</td>\n",
       "      <td>0</td>\n",
       "      <td>0</td>\n",
       "      <td>646</td>\n",
       "    </tr>\n",
       "    <tr>\n",
       "      <th>3</th>\n",
       "      <td>1</td>\n",
       "      <td>1.500300e+12</td>\n",
       "      <td>EUFAULA CITY SCHOOL DISTRICT</td>\n",
       "      <td>1005</td>\n",
       "      <td>N</td>\n",
       "      <td>N</td>\n",
       "      <td>3</td>\n",
       "      <td>101410</td>\n",
       "      <td>15</td>\n",
       "      <td>2829</td>\n",
       "      <td>...</td>\n",
       "      <td>0</td>\n",
       "      <td>0</td>\n",
       "      <td>0</td>\n",
       "      <td>0</td>\n",
       "      <td>0</td>\n",
       "      <td>0</td>\n",
       "      <td>0</td>\n",
       "      <td>0</td>\n",
       "      <td>2054</td>\n",
       "      <td>7478</td>\n",
       "    </tr>\n",
       "    <tr>\n",
       "      <th>4</th>\n",
       "      <td>1</td>\n",
       "      <td>1.500400e+12</td>\n",
       "      <td>BIBB COUNTY SCHOOL DISTRICT</td>\n",
       "      <td>1007</td>\n",
       "      <td>142</td>\n",
       "      <td>13820</td>\n",
       "      <td>3</td>\n",
       "      <td>100360</td>\n",
       "      <td>15</td>\n",
       "      <td>3357</td>\n",
       "      <td>...</td>\n",
       "      <td>0</td>\n",
       "      <td>22155</td>\n",
       "      <td>0</td>\n",
       "      <td>1190</td>\n",
       "      <td>20965</td>\n",
       "      <td>0</td>\n",
       "      <td>0</td>\n",
       "      <td>1397</td>\n",
       "      <td>790</td>\n",
       "      <td>5400</td>\n",
       "    </tr>\n",
       "  </tbody>\n",
       "</table>\n",
       "<p>5 rows × 141 columns</p>\n",
       "</div>"
      ],
      "text/plain": [
       "   STATE      IDCENSUS                            NAME  CONUM  CSA   CBSA  \\\n",
       "0      1  1.500100e+12  AUTAUGA COUNTY SCHOOL DISTRICT   1001    N  33860   \n",
       "1      1  1.500200e+12  BALDWIN COUNTY SCHOOL DISTRICT   1003  380  19300   \n",
       "2      1  1.500300e+12  BARBOUR COUNTY SCHOOL DISTRICT   1005    N      N   \n",
       "3      1  1.500300e+12    EUFAULA CITY SCHOOL DISTRICT   1005    N      N   \n",
       "4      1  1.500400e+12     BIBB COUNTY SCHOOL DISTRICT   1007  142  13820   \n",
       "\n",
       "   SCHLEV  NCESID  YRDATA    V33  ...    V32    _19H   _21F   _31F    _41F  \\\n",
       "0       3  100240      15   9664  ...      0   49431  16603   2992   63042   \n",
       "1       3  100270      15  30596  ...      0  337160  99087  13027  423220   \n",
       "2       3  100300      15    925  ...      0    8024      0    304    7720   \n",
       "3       3  101410      15   2829  ...      0       0      0      0       0   \n",
       "4       3  100360      15   3357  ...      0   22155      0   1190   20965   \n",
       "\n",
       "   _61V  _66V   W01    W31    W61  \n",
       "0     0     0  2094    372   8617  \n",
       "1     0     0  5784  50441  71370  \n",
       "2     0     0     0      0    646  \n",
       "3     0     0     0   2054   7478  \n",
       "4     0     0  1397    790   5400  \n",
       "\n",
       "[5 rows x 141 columns]"
      ]
     },
     "execution_count": 3,
     "metadata": {},
     "output_type": "execute_result"
    }
   ],
   "source": [
    "sf.head()"
   ]
  },
  {
   "cell_type": "code",
   "execution_count": 4,
   "metadata": {
    "collapsed": false
   },
   "outputs": [
    {
     "data": {
      "text/plain": [
       "(14376, 141)"
      ]
     },
     "execution_count": 4,
     "metadata": {},
     "output_type": "execute_result"
    }
   ],
   "source": [
    "sf.shape"
   ]
  },
  {
   "cell_type": "code",
   "execution_count": 5,
   "metadata": {
    "collapsed": false
   },
   "outputs": [
    {
     "data": {
      "text/plain": [
       "Index(['STATE', 'IDCENSUS', 'NAME', 'CONUM', 'CSA', 'CBSA', 'SCHLEV', 'NCESID',\n",
       "       'YRDATA', 'V33',\n",
       "       ...\n",
       "       'V32', '_19H', '_21F', '_31F', '_41F', '_61V', '_66V', 'W01', 'W31',\n",
       "       'W61'],\n",
       "      dtype='object', length=141)"
      ]
     },
     "execution_count": 5,
     "metadata": {},
     "output_type": "execute_result"
    }
   ],
   "source": [
    "sf.columns"
   ]
  },
  {
   "cell_type": "code",
   "execution_count": 6,
   "metadata": {
    "collapsed": true
   },
   "outputs": [],
   "source": [
    "finances = sf[['STATE', 'IDCENSUS', 'NAME', 'SCHLEV', 'V33', 'TOTALREV', 'TFEDREV', 'C14', 'C15', 'C16', 'C17', 'TSTREV', 'C04', 'C05', 'C07', 'C12', 'TLOCREV', 'T06', 'D23', 'A09', 'A13', 'A20', 'U50', 'U97', 'TOTALEXP', 'TCURELSC', 'E13', 'TCURSSVC', 'TCUROTH', 'NONELSEC', 'TCAPOUT', 'F12', 'G15', 'K09', 'Z32', 'Z33', 'Z34']]"
   ]
  },
  {
   "cell_type": "code",
   "execution_count": 7,
   "metadata": {
    "collapsed": false
   },
   "outputs": [
    {
     "data": {
      "text/html": [
       "<div>\n",
       "<table border=\"1\" class=\"dataframe\">\n",
       "  <thead>\n",
       "    <tr style=\"text-align: right;\">\n",
       "      <th></th>\n",
       "      <th>STATE</th>\n",
       "      <th>IDCENSUS</th>\n",
       "      <th>NAME</th>\n",
       "      <th>SCHLEV</th>\n",
       "      <th>V33</th>\n",
       "      <th>TOTALREV</th>\n",
       "      <th>TFEDREV</th>\n",
       "      <th>C14</th>\n",
       "      <th>C15</th>\n",
       "      <th>C16</th>\n",
       "      <th>...</th>\n",
       "      <th>TCURSSVC</th>\n",
       "      <th>TCUROTH</th>\n",
       "      <th>NONELSEC</th>\n",
       "      <th>TCAPOUT</th>\n",
       "      <th>F12</th>\n",
       "      <th>G15</th>\n",
       "      <th>K09</th>\n",
       "      <th>Z32</th>\n",
       "      <th>Z33</th>\n",
       "      <th>Z34</th>\n",
       "    </tr>\n",
       "  </thead>\n",
       "  <tbody>\n",
       "    <tr>\n",
       "      <th>0</th>\n",
       "      <td>1</td>\n",
       "      <td>1.500100e+12</td>\n",
       "      <td>AUTAUGA COUNTY SCHOOL DISTRICT</td>\n",
       "      <td>3</td>\n",
       "      <td>9664</td>\n",
       "      <td>79665</td>\n",
       "      <td>7574</td>\n",
       "      <td>1791</td>\n",
       "      <td>2179</td>\n",
       "      <td>259</td>\n",
       "      <td>...</td>\n",
       "      <td>23217</td>\n",
       "      <td>5570</td>\n",
       "      <td>1010</td>\n",
       "      <td>691</td>\n",
       "      <td>529</td>\n",
       "      <td>0</td>\n",
       "      <td>0</td>\n",
       "      <td>42440</td>\n",
       "      <td>28822</td>\n",
       "      <td>17720</td>\n",
       "    </tr>\n",
       "    <tr>\n",
       "      <th>1</th>\n",
       "      <td>1</td>\n",
       "      <td>1.500200e+12</td>\n",
       "      <td>BALDWIN COUNTY SCHOOL DISTRICT</td>\n",
       "      <td>3</td>\n",
       "      <td>30596</td>\n",
       "      <td>330317</td>\n",
       "      <td>23602</td>\n",
       "      <td>5729</td>\n",
       "      <td>7207</td>\n",
       "      <td>811</td>\n",
       "      <td>...</td>\n",
       "      <td>99682</td>\n",
       "      <td>14578</td>\n",
       "      <td>4957</td>\n",
       "      <td>13256</td>\n",
       "      <td>8737</td>\n",
       "      <td>21</td>\n",
       "      <td>481</td>\n",
       "      <td>153812</td>\n",
       "      <td>101788</td>\n",
       "      <td>60668</td>\n",
       "    </tr>\n",
       "    <tr>\n",
       "      <th>2</th>\n",
       "      <td>1</td>\n",
       "      <td>1.500300e+12</td>\n",
       "      <td>BARBOUR COUNTY SCHOOL DISTRICT</td>\n",
       "      <td>3</td>\n",
       "      <td>925</td>\n",
       "      <td>10519</td>\n",
       "      <td>2518</td>\n",
       "      <td>1279</td>\n",
       "      <td>323</td>\n",
       "      <td>153</td>\n",
       "      <td>...</td>\n",
       "      <td>3835</td>\n",
       "      <td>873</td>\n",
       "      <td>145</td>\n",
       "      <td>0</td>\n",
       "      <td>0</td>\n",
       "      <td>0</td>\n",
       "      <td>0</td>\n",
       "      <td>5317</td>\n",
       "      <td>3206</td>\n",
       "      <td>2100</td>\n",
       "    </tr>\n",
       "    <tr>\n",
       "      <th>3</th>\n",
       "      <td>1</td>\n",
       "      <td>1.500300e+12</td>\n",
       "      <td>EUFAULA CITY SCHOOL DISTRICT</td>\n",
       "      <td>3</td>\n",
       "      <td>2829</td>\n",
       "      <td>26076</td>\n",
       "      <td>3374</td>\n",
       "      <td>1035</td>\n",
       "      <td>596</td>\n",
       "      <td>139</td>\n",
       "      <td>...</td>\n",
       "      <td>7494</td>\n",
       "      <td>1851</td>\n",
       "      <td>333</td>\n",
       "      <td>990</td>\n",
       "      <td>777</td>\n",
       "      <td>0</td>\n",
       "      <td>32</td>\n",
       "      <td>13627</td>\n",
       "      <td>9247</td>\n",
       "      <td>5667</td>\n",
       "    </tr>\n",
       "    <tr>\n",
       "      <th>4</th>\n",
       "      <td>1</td>\n",
       "      <td>1.500400e+12</td>\n",
       "      <td>BIBB COUNTY SCHOOL DISTRICT</td>\n",
       "      <td>3</td>\n",
       "      <td>3357</td>\n",
       "      <td>31825</td>\n",
       "      <td>3586</td>\n",
       "      <td>856</td>\n",
       "      <td>980</td>\n",
       "      <td>220</td>\n",
       "      <td>...</td>\n",
       "      <td>10822</td>\n",
       "      <td>2292</td>\n",
       "      <td>658</td>\n",
       "      <td>858</td>\n",
       "      <td>199</td>\n",
       "      <td>132</td>\n",
       "      <td>35</td>\n",
       "      <td>16925</td>\n",
       "      <td>10820</td>\n",
       "      <td>7005</td>\n",
       "    </tr>\n",
       "  </tbody>\n",
       "</table>\n",
       "<p>5 rows × 37 columns</p>\n",
       "</div>"
      ],
      "text/plain": [
       "   STATE      IDCENSUS                            NAME  SCHLEV    V33  \\\n",
       "0      1  1.500100e+12  AUTAUGA COUNTY SCHOOL DISTRICT       3   9664   \n",
       "1      1  1.500200e+12  BALDWIN COUNTY SCHOOL DISTRICT       3  30596   \n",
       "2      1  1.500300e+12  BARBOUR COUNTY SCHOOL DISTRICT       3    925   \n",
       "3      1  1.500300e+12    EUFAULA CITY SCHOOL DISTRICT       3   2829   \n",
       "4      1  1.500400e+12     BIBB COUNTY SCHOOL DISTRICT       3   3357   \n",
       "\n",
       "   TOTALREV  TFEDREV   C14   C15  C16  ...    TCURSSVC  TCUROTH  NONELSEC  \\\n",
       "0     79665     7574  1791  2179  259  ...       23217     5570      1010   \n",
       "1    330317    23602  5729  7207  811  ...       99682    14578      4957   \n",
       "2     10519     2518  1279   323  153  ...        3835      873       145   \n",
       "3     26076     3374  1035   596  139  ...        7494     1851       333   \n",
       "4     31825     3586   856   980  220  ...       10822     2292       658   \n",
       "\n",
       "   TCAPOUT   F12  G15  K09     Z32     Z33    Z34  \n",
       "0      691   529    0    0   42440   28822  17720  \n",
       "1    13256  8737   21  481  153812  101788  60668  \n",
       "2        0     0    0    0    5317    3206   2100  \n",
       "3      990   777    0   32   13627    9247   5667  \n",
       "4      858   199  132   35   16925   10820   7005  \n",
       "\n",
       "[5 rows x 37 columns]"
      ]
     },
     "execution_count": 7,
     "metadata": {},
     "output_type": "execute_result"
    }
   ],
   "source": [
    "finances.head()"
   ]
  },
  {
   "cell_type": "code",
   "execution_count": 8,
   "metadata": {
    "collapsed": false
   },
   "outputs": [
    {
     "data": {
      "text/html": [
       "<div>\n",
       "<table border=\"1\" class=\"dataframe\">\n",
       "  <thead>\n",
       "    <tr style=\"text-align: right;\">\n",
       "      <th></th>\n",
       "      <th>STATE</th>\n",
       "      <th>IDCENSUS</th>\n",
       "      <th>SCHLEV</th>\n",
       "      <th>V33</th>\n",
       "      <th>TOTALREV</th>\n",
       "      <th>TFEDREV</th>\n",
       "      <th>C14</th>\n",
       "      <th>C15</th>\n",
       "      <th>C16</th>\n",
       "      <th>C17</th>\n",
       "      <th>...</th>\n",
       "      <th>TCURSSVC</th>\n",
       "      <th>TCUROTH</th>\n",
       "      <th>NONELSEC</th>\n",
       "      <th>TCAPOUT</th>\n",
       "      <th>F12</th>\n",
       "      <th>G15</th>\n",
       "      <th>K09</th>\n",
       "      <th>Z32</th>\n",
       "      <th>Z33</th>\n",
       "      <th>Z34</th>\n",
       "    </tr>\n",
       "  </thead>\n",
       "  <tbody>\n",
       "    <tr>\n",
       "      <th>count</th>\n",
       "      <td>14376.000000</td>\n",
       "      <td>1.437600e+04</td>\n",
       "      <td>14376.000000</td>\n",
       "      <td>14376.000000</td>\n",
       "      <td>1.437600e+04</td>\n",
       "      <td>1.437600e+04</td>\n",
       "      <td>14376.000000</td>\n",
       "      <td>14376.000000</td>\n",
       "      <td>14376.000000</td>\n",
       "      <td>14376.000000</td>\n",
       "      <td>...</td>\n",
       "      <td>1.437600e+04</td>\n",
       "      <td>14376.000000</td>\n",
       "      <td>14376.000000</td>\n",
       "      <td>1.437600e+04</td>\n",
       "      <td>1.437600e+04</td>\n",
       "      <td>14376.000000</td>\n",
       "      <td>14376.000000</td>\n",
       "      <td>1.437600e+04</td>\n",
       "      <td>1.437600e+04</td>\n",
       "      <td>1.437600e+04</td>\n",
       "    </tr>\n",
       "    <tr>\n",
       "      <th>mean</th>\n",
       "      <td>26.801336</td>\n",
       "      <td>2.728090e+13</td>\n",
       "      <td>2.883139</td>\n",
       "      <td>3374.682526</td>\n",
       "      <td>4.546951e+04</td>\n",
       "      <td>3.708038e+03</td>\n",
       "      <td>915.914858</td>\n",
       "      <td>752.781093</td>\n",
       "      <td>97.466055</td>\n",
       "      <td>7.383278</td>\n",
       "      <td>...</td>\n",
       "      <td>1.352417e+04</td>\n",
       "      <td>1625.927309</td>\n",
       "      <td>390.802657</td>\n",
       "      <td>3.627027e+03</td>\n",
       "      <td>2.751908e+03</td>\n",
       "      <td>215.163189</td>\n",
       "      <td>153.054535</td>\n",
       "      <td>2.240621e+04</td>\n",
       "      <td>1.509107e+04</td>\n",
       "      <td>7.978090e+03</td>\n",
       "    </tr>\n",
       "    <tr>\n",
       "      <th>std</th>\n",
       "      <td>13.894331</td>\n",
       "      <td>1.389514e+13</td>\n",
       "      <td>1.271649</td>\n",
       "      <td>14419.737037</td>\n",
       "      <td>2.590623e+05</td>\n",
       "      <td>2.021328e+04</td>\n",
       "      <td>5972.748111</td>\n",
       "      <td>3619.184513</td>\n",
       "      <td>598.404925</td>\n",
       "      <td>74.283373</td>\n",
       "      <td>...</td>\n",
       "      <td>5.894857e+04</td>\n",
       "      <td>7558.732209</td>\n",
       "      <td>2607.081469</td>\n",
       "      <td>2.614211e+04</td>\n",
       "      <td>2.428852e+04</td>\n",
       "      <td>1752.902688</td>\n",
       "      <td>974.844194</td>\n",
       "      <td>1.170061e+05</td>\n",
       "      <td>9.008237e+04</td>\n",
       "      <td>6.136424e+04</td>\n",
       "    </tr>\n",
       "    <tr>\n",
       "      <th>min</th>\n",
       "      <td>1.000000</td>\n",
       "      <td>1.500100e+12</td>\n",
       "      <td>1.000000</td>\n",
       "      <td>0.000000</td>\n",
       "      <td>0.000000e+00</td>\n",
       "      <td>0.000000e+00</td>\n",
       "      <td>0.000000</td>\n",
       "      <td>0.000000</td>\n",
       "      <td>0.000000</td>\n",
       "      <td>0.000000</td>\n",
       "      <td>...</td>\n",
       "      <td>0.000000e+00</td>\n",
       "      <td>0.000000</td>\n",
       "      <td>0.000000</td>\n",
       "      <td>0.000000e+00</td>\n",
       "      <td>0.000000e+00</td>\n",
       "      <td>0.000000</td>\n",
       "      <td>0.000000</td>\n",
       "      <td>0.000000e+00</td>\n",
       "      <td>0.000000e+00</td>\n",
       "      <td>0.000000e+00</td>\n",
       "    </tr>\n",
       "    <tr>\n",
       "      <th>25%</th>\n",
       "      <td>15.000000</td>\n",
       "      <td>1.550330e+13</td>\n",
       "      <td>3.000000</td>\n",
       "      <td>305.000000</td>\n",
       "      <td>5.241500e+03</td>\n",
       "      <td>2.920000e+02</td>\n",
       "      <td>54.000000</td>\n",
       "      <td>0.000000</td>\n",
       "      <td>0.000000</td>\n",
       "      <td>0.000000</td>\n",
       "      <td>...</td>\n",
       "      <td>1.577000e+03</td>\n",
       "      <td>170.000000</td>\n",
       "      <td>0.000000</td>\n",
       "      <td>1.260000e+02</td>\n",
       "      <td>0.000000e+00</td>\n",
       "      <td>0.000000</td>\n",
       "      <td>0.000000</td>\n",
       "      <td>2.439750e+03</td>\n",
       "      <td>1.580750e+03</td>\n",
       "      <td>6.927500e+02</td>\n",
       "    </tr>\n",
       "    <tr>\n",
       "      <th>50%</th>\n",
       "      <td>27.000000</td>\n",
       "      <td>2.750320e+13</td>\n",
       "      <td>3.000000</td>\n",
       "      <td>979.500000</td>\n",
       "      <td>1.402300e+04</td>\n",
       "      <td>8.470000e+02</td>\n",
       "      <td>180.000000</td>\n",
       "      <td>118.000000</td>\n",
       "      <td>10.000000</td>\n",
       "      <td>0.000000</td>\n",
       "      <td>...</td>\n",
       "      <td>4.279500e+03</td>\n",
       "      <td>470.000000</td>\n",
       "      <td>9.000000</td>\n",
       "      <td>5.060000e+02</td>\n",
       "      <td>1.310000e+02</td>\n",
       "      <td>0.000000</td>\n",
       "      <td>21.000000</td>\n",
       "      <td>6.580000e+03</td>\n",
       "      <td>4.387000e+03</td>\n",
       "      <td>2.181000e+03</td>\n",
       "    </tr>\n",
       "    <tr>\n",
       "      <th>75%</th>\n",
       "      <td>38.000000</td>\n",
       "      <td>3.850050e+13</td>\n",
       "      <td>3.000000</td>\n",
       "      <td>2744.250000</td>\n",
       "      <td>3.791375e+04</td>\n",
       "      <td>2.433500e+03</td>\n",
       "      <td>545.250000</td>\n",
       "      <td>532.000000</td>\n",
       "      <td>61.000000</td>\n",
       "      <td>0.000000</td>\n",
       "      <td>...</td>\n",
       "      <td>1.153675e+04</td>\n",
       "      <td>1250.000000</td>\n",
       "      <td>145.000000</td>\n",
       "      <td>1.923500e+03</td>\n",
       "      <td>1.050250e+03</td>\n",
       "      <td>2.000000</td>\n",
       "      <td>100.000000</td>\n",
       "      <td>1.831050e+04</td>\n",
       "      <td>1.219875e+04</td>\n",
       "      <td>6.485500e+03</td>\n",
       "    </tr>\n",
       "    <tr>\n",
       "      <th>max</th>\n",
       "      <td>51.000000</td>\n",
       "      <td>5.150230e+13</td>\n",
       "      <td>7.000000</td>\n",
       "      <td>995192.000000</td>\n",
       "      <td>2.543738e+07</td>\n",
       "      <td>1.307783e+06</td>\n",
       "      <td>379531.000000</td>\n",
       "      <td>248209.000000</td>\n",
       "      <td>43253.000000</td>\n",
       "      <td>3073.000000</td>\n",
       "      <td>...</td>\n",
       "      <td>4.694906e+06</td>\n",
       "      <td>538505.000000</td>\n",
       "      <td>134959.000000</td>\n",
       "      <td>2.623719e+06</td>\n",
       "      <td>2.498536e+06</td>\n",
       "      <td>73907.000000</td>\n",
       "      <td>80941.000000</td>\n",
       "      <td>1.092264e+07</td>\n",
       "      <td>9.118350e+06</td>\n",
       "      <td>6.558472e+06</td>\n",
       "    </tr>\n",
       "  </tbody>\n",
       "</table>\n",
       "<p>8 rows × 36 columns</p>\n",
       "</div>"
      ],
      "text/plain": [
       "              STATE      IDCENSUS        SCHLEV            V33      TOTALREV  \\\n",
       "count  14376.000000  1.437600e+04  14376.000000   14376.000000  1.437600e+04   \n",
       "mean      26.801336  2.728090e+13      2.883139    3374.682526  4.546951e+04   \n",
       "std       13.894331  1.389514e+13      1.271649   14419.737037  2.590623e+05   \n",
       "min        1.000000  1.500100e+12      1.000000       0.000000  0.000000e+00   \n",
       "25%       15.000000  1.550330e+13      3.000000     305.000000  5.241500e+03   \n",
       "50%       27.000000  2.750320e+13      3.000000     979.500000  1.402300e+04   \n",
       "75%       38.000000  3.850050e+13      3.000000    2744.250000  3.791375e+04   \n",
       "max       51.000000  5.150230e+13      7.000000  995192.000000  2.543738e+07   \n",
       "\n",
       "            TFEDREV            C14            C15           C16           C17  \\\n",
       "count  1.437600e+04   14376.000000   14376.000000  14376.000000  14376.000000   \n",
       "mean   3.708038e+03     915.914858     752.781093     97.466055      7.383278   \n",
       "std    2.021328e+04    5972.748111    3619.184513    598.404925     74.283373   \n",
       "min    0.000000e+00       0.000000       0.000000      0.000000      0.000000   \n",
       "25%    2.920000e+02      54.000000       0.000000      0.000000      0.000000   \n",
       "50%    8.470000e+02     180.000000     118.000000     10.000000      0.000000   \n",
       "75%    2.433500e+03     545.250000     532.000000     61.000000      0.000000   \n",
       "max    1.307783e+06  379531.000000  248209.000000  43253.000000   3073.000000   \n",
       "\n",
       "           ...           TCURSSVC        TCUROTH       NONELSEC       TCAPOUT  \\\n",
       "count      ...       1.437600e+04   14376.000000   14376.000000  1.437600e+04   \n",
       "mean       ...       1.352417e+04    1625.927309     390.802657  3.627027e+03   \n",
       "std        ...       5.894857e+04    7558.732209    2607.081469  2.614211e+04   \n",
       "min        ...       0.000000e+00       0.000000       0.000000  0.000000e+00   \n",
       "25%        ...       1.577000e+03     170.000000       0.000000  1.260000e+02   \n",
       "50%        ...       4.279500e+03     470.000000       9.000000  5.060000e+02   \n",
       "75%        ...       1.153675e+04    1250.000000     145.000000  1.923500e+03   \n",
       "max        ...       4.694906e+06  538505.000000  134959.000000  2.623719e+06   \n",
       "\n",
       "                F12           G15           K09           Z32           Z33  \\\n",
       "count  1.437600e+04  14376.000000  14376.000000  1.437600e+04  1.437600e+04   \n",
       "mean   2.751908e+03    215.163189    153.054535  2.240621e+04  1.509107e+04   \n",
       "std    2.428852e+04   1752.902688    974.844194  1.170061e+05  9.008237e+04   \n",
       "min    0.000000e+00      0.000000      0.000000  0.000000e+00  0.000000e+00   \n",
       "25%    0.000000e+00      0.000000      0.000000  2.439750e+03  1.580750e+03   \n",
       "50%    1.310000e+02      0.000000     21.000000  6.580000e+03  4.387000e+03   \n",
       "75%    1.050250e+03      2.000000    100.000000  1.831050e+04  1.219875e+04   \n",
       "max    2.498536e+06  73907.000000  80941.000000  1.092264e+07  9.118350e+06   \n",
       "\n",
       "                Z34  \n",
       "count  1.437600e+04  \n",
       "mean   7.978090e+03  \n",
       "std    6.136424e+04  \n",
       "min    0.000000e+00  \n",
       "25%    6.927500e+02  \n",
       "50%    2.181000e+03  \n",
       "75%    6.485500e+03  \n",
       "max    6.558472e+06  \n",
       "\n",
       "[8 rows x 36 columns]"
      ]
     },
     "execution_count": 8,
     "metadata": {},
     "output_type": "execute_result"
    }
   ],
   "source": [
    "finances.describe()"
   ]
  },
  {
   "cell_type": "code",
   "execution_count": 9,
   "metadata": {
    "collapsed": false,
    "scrolled": true
   },
   "outputs": [
    {
     "data": {
      "text/plain": [
       "Index(['STATE', 'IDCENSUS', 'NAME', 'SCHLEV', 'V33', 'TOTALREV', 'TFEDREV',\n",
       "       'C14', 'C15', 'C16', 'C17', 'TSTREV', 'C04', 'C05', 'C07', 'C12',\n",
       "       'TLOCREV', 'T06', 'D23', 'A09', 'A13', 'A20', 'U50', 'U97', 'TOTALEXP',\n",
       "       'TCURELSC', 'E13', 'TCURSSVC', 'TCUROTH', 'NONELSEC', 'TCAPOUT', 'F12',\n",
       "       'G15', 'K09', 'Z32', 'Z33', 'Z34'],\n",
       "      dtype='object')"
      ]
     },
     "execution_count": 9,
     "metadata": {},
     "output_type": "execute_result"
    }
   ],
   "source": [
    "finances.columns"
   ]
  },
  {
   "cell_type": "code",
   "execution_count": 10,
   "metadata": {
    "collapsed": true
   },
   "outputs": [],
   "source": [
    "finances = finances.rename(index=str, columns={'V33': 'ENROLLMENT', 'C14': 'FED_TITLE1', 'C15': 'FED_DISABILITIES', 'C16': 'FED_STEM', 'C17': 'FED_DRUGS', 'C04': 'STATE_STAFF', 'C05': 'STATE_SPECIAL_ED', 'C07': 'STATE_BILING', 'C12': 'STATE_TRANSPORTATION', 'T06': 'LOCAL_PROPERTY', 'D23': 'LOCAL_REV_CITIES_COUNTIES', 'A09': 'LOCAL_LUNCH', 'A13': 'LOCAL_DISTRICT_ACTIVITY', 'A20': 'LOCAL_OTHER', 'U50': 'LOCAL_PRIVATE', 'U97': 'LOCAL_MISCELLANEOUS', 'E13': 'INSTRUCT_EXP', 'F12': 'CONSTRUCTION_EXP', 'G15': 'LAND_EXP', 'K09': 'INSTRUCTIONAL_EXP', 'Z32': 'TOTSALS', 'Z33': 'TOTSALS_INSTRUCTION', 'Z34': 'TOT_EMPLOY_BENEFITS'})"
   ]
  },
  {
   "cell_type": "markdown",
   "metadata": {},
   "source": [
    "<h2>Column Information:</h2> <br>\n",
    "<b>STATE</b> - State Identification Number <br>\n",
    "<b>IDCENSUS</b> - School System Identification Number <br>\n",
    "<b>NAME</b> - School System Name <br>\n",
    "<b>SCHLEV</b> - School Level Code\n",
    "<!---<ul>\n",
    "    <li>01 - Elementary School System Only </li>\n",
    "    <li>02 - Secondary School System Only </li>\n",
    "    <li>03 - Elementary-Secondary School System </li>\n",
    "    <li>05 - Vocational or Special Education School System </li>\n",
    "    <li>06 - Nonoperating School System </li>\n",
    "    <li>07 - Educational Service Agency </li>\n",
    "</ul>--->\n",
    "<br>\n",
    "<b>ENROLLMENT</b> - Fall Membership <br>\n",
    "<b>TOTALREV</b> - Total Elementary-Secondary Revenue <br>\n",
    "<b>TFEDREV</b> - Total Revenue from Federal Sources <br>\n",
    "FED_TITLE1 - Federal revenue through the state - Title 1<br>\n",
    "FED_DISABILITIES - Federal revenue through the state - Children with disabilities - IDEA <br>\n",
    "FED_STEM - Federal revnue through the state - Math, science, and teacher quality <br>\n",
    "FED_DRUGS - Federal revenue through the state - Safe and drug-free schools <br>\n",
    "<b>TSTREV</b> - Total Revenue from State Sources <br>\n",
    "STATE_STAFF - Staff improvement programs <br>\n",
    "STATE_SPECIAL_ED - Special education programs <br>\n",
    "STATE_BILING - Bilingual education programs <br>\n",
    "STATE_TRANSPORTATION - Transporation programs <br>\n",
    "<b>TLOCREV</b> - Total Revenue from Local Sources <br>\n",
    "LOCAL_PROPERTY - Property taxes <br>\n",
    "LOCAL_REV_CITIES_COUNTIES - Revenue from cities and countries <br>\n",
    "LOCAL_LUNCH - School lunch revenues <br>\n",
    "LOCAL_DISTRICT_ACTIVITY - District activity receipts <br>\n",
    "LOCAL_OTHER - Other sales and service revenues <br>\n",
    "LOCAL_PRIVATE - Private contributions <br>\n",
    "LOCAL_MISCELLANEOUS - Miscellaneous other local revenues <br>\n",
    "<b>TOTALEXP</b> - Total Elementary-Secondary Expenditure <br>\n",
    "<b>TCURELSC</b> - Total Current Spending for Elementary-Secondary Programs <br>\n",
    "INSTRUCT_EXP - Current operation expenditure - Instruction <br>\n",
    "<b>TCURSSVC</b> Total Current Spending for Support Services <br>\n",
    "<b>TCUROTH</b> - Total Current Spending for Other Elementary-Secondary Programs <br>\n",
    "<b>NONELESC</b> - Total Current Spending For Nonelementary-Secondary Programs <br>\n",
    "<b>TCAPOUT</b> - Total Capital Outlay Expenditure <br>\n",
    "CONSTRUCTION_EXP - Construction <br>\n",
    "LAND_EXP - Purchase of land and existing structures <br>\n",
    "INSTRUCTIONAL_EXP - Instructional equipment <br>\n",
    "TOTSALS - Total salaries and wages <br>\n",
    "TOTSALS_INSTRUCTION - Total salaries and wages - Instruction <br>\n",
    "TOT_EMPLOY_BENEFITS - Total employee benefit payments"
   ]
  },
  {
   "cell_type": "markdown",
   "metadata": {},
   "source": [
    "<h2>Dividing data into different dataframes</h2>"
   ]
  },
  {
   "cell_type": "code",
   "execution_count": 11,
   "metadata": {
    "collapsed": true
   },
   "outputs": [],
   "source": [
    "fed_sources = finances[['STATE', 'IDCENSUS', 'NAME', 'SCHLEV', 'ENROLLMENT', 'FED_TITLE1', 'FED_DISABILITIES', 'FED_STEM', 'FED_DRUGS']]\n",
    "state_sources = finances[['STATE', 'IDCENSUS', 'NAME', 'SCHLEV', 'ENROLLMENT', 'STATE_STAFF', 'STATE_SPECIAL_ED', 'STATE_BILING', 'STATE_TRANSPORTATION']]\n",
    "local_sources = finances[['STATE', 'IDCENSUS', 'NAME', 'SCHLEV', 'ENROLLMENT', 'LOCAL_PROPERTY', 'LOCAL_REV_CITIES_COUNTIES', 'LOCAL_LUNCH', 'LOCAL_DISTRICT_ACTIVITY', 'LOCAL_OTHER', 'LOCAL_PRIVATE', 'LOCAL_MISCELLANEOUS']]"
   ]
  },
  {
   "cell_type": "code",
   "execution_count": 12,
   "metadata": {
    "collapsed": false
   },
   "outputs": [
    {
     "data": {
      "text/html": [
       "<div>\n",
       "<table border=\"1\" class=\"dataframe\">\n",
       "  <thead>\n",
       "    <tr style=\"text-align: right;\">\n",
       "      <th></th>\n",
       "      <th>STATE</th>\n",
       "      <th>IDCENSUS</th>\n",
       "      <th>NAME</th>\n",
       "      <th>SCHLEV</th>\n",
       "      <th>ENROLLMENT</th>\n",
       "      <th>TOTALREV</th>\n",
       "      <th>TFEDREV</th>\n",
       "      <th>FED_TITLE1</th>\n",
       "      <th>FED_DISABILITIES</th>\n",
       "      <th>FED_STEM</th>\n",
       "      <th>...</th>\n",
       "      <th>TCURSSVC</th>\n",
       "      <th>TCUROTH</th>\n",
       "      <th>NONELSEC</th>\n",
       "      <th>TCAPOUT</th>\n",
       "      <th>CONSTRUCTION_EXP</th>\n",
       "      <th>LAND_EXP</th>\n",
       "      <th>INSTRUCTIONAL_EXP</th>\n",
       "      <th>TOTSALS</th>\n",
       "      <th>TOTSALS_INSTRUCTION</th>\n",
       "      <th>TOT_EMPLOY_BENEFITS</th>\n",
       "    </tr>\n",
       "  </thead>\n",
       "  <tbody>\n",
       "    <tr>\n",
       "      <th>739</th>\n",
       "      <td>5</td>\n",
       "      <td>5.500100e+12</td>\n",
       "      <td>BERKELEY UNIFIED SCH DIST</td>\n",
       "      <td>3</td>\n",
       "      <td>10442</td>\n",
       "      <td>171671</td>\n",
       "      <td>8331</td>\n",
       "      <td>730</td>\n",
       "      <td>2058</td>\n",
       "      <td>264</td>\n",
       "      <td>...</td>\n",
       "      <td>52396</td>\n",
       "      <td>3457</td>\n",
       "      <td>8961</td>\n",
       "      <td>15014</td>\n",
       "      <td>13550</td>\n",
       "      <td>1363</td>\n",
       "      <td>8</td>\n",
       "      <td>87395</td>\n",
       "      <td>50742</td>\n",
       "      <td>26959</td>\n",
       "    </tr>\n",
       "  </tbody>\n",
       "</table>\n",
       "<p>1 rows × 37 columns</p>\n",
       "</div>"
      ],
      "text/plain": [
       "     STATE      IDCENSUS                       NAME  SCHLEV  ENROLLMENT  \\\n",
       "739      5  5.500100e+12  BERKELEY UNIFIED SCH DIST       3       10442   \n",
       "\n",
       "     TOTALREV  TFEDREV  FED_TITLE1  FED_DISABILITIES  FED_STEM  \\\n",
       "739    171671     8331         730              2058       264   \n",
       "\n",
       "            ...           TCURSSVC  TCUROTH  NONELSEC  TCAPOUT  \\\n",
       "739         ...              52396     3457      8961    15014   \n",
       "\n",
       "     CONSTRUCTION_EXP  LAND_EXP  INSTRUCTIONAL_EXP  TOTSALS  \\\n",
       "739             13550      1363                  8    87395   \n",
       "\n",
       "     TOTSALS_INSTRUCTION  TOT_EMPLOY_BENEFITS  \n",
       "739                50742                26959  \n",
       "\n",
       "[1 rows x 37 columns]"
      ]
     },
     "execution_count": 12,
     "metadata": {},
     "output_type": "execute_result"
    }
   ],
   "source": [
    "berkeley_finances = finances[finances.NAME == 'BERKELEY UNIFIED SCH DIST']\n",
    "berkeley_finances"
   ]
  },
  {
   "cell_type": "code",
   "execution_count": 13,
   "metadata": {
    "collapsed": false
   },
   "outputs": [
    {
     "name": "stdout",
     "output_type": "stream",
     "text": [
      "16146.044819000192\n"
     ]
    }
   ],
   "source": [
    "# Amount spent per student in Berkeley Unified School District:\n",
    "print(int(berkeley_finances.TOTALEXP) * 1000 / int(berkeley_finances.ENROLLMENT))"
   ]
  },
  {
   "cell_type": "code",
   "execution_count": 14,
   "metadata": {
    "collapsed": false
   },
   "outputs": [
    {
     "data": {
      "text/html": [
       "<div>\n",
       "<table border=\"1\" class=\"dataframe\">\n",
       "  <thead>\n",
       "    <tr style=\"text-align: right;\">\n",
       "      <th></th>\n",
       "      <th>STATE</th>\n",
       "      <th>IDCENSUS</th>\n",
       "      <th>SCHLEV</th>\n",
       "      <th>ENROLLMENT</th>\n",
       "      <th>TOTALREV</th>\n",
       "      <th>TFEDREV</th>\n",
       "      <th>FED_TITLE1</th>\n",
       "      <th>FED_DISABILITIES</th>\n",
       "      <th>FED_STEM</th>\n",
       "      <th>FED_DRUGS</th>\n",
       "      <th>...</th>\n",
       "      <th>TCURSSVC</th>\n",
       "      <th>TCUROTH</th>\n",
       "      <th>NONELSEC</th>\n",
       "      <th>TCAPOUT</th>\n",
       "      <th>CONSTRUCTION_EXP</th>\n",
       "      <th>LAND_EXP</th>\n",
       "      <th>INSTRUCTIONAL_EXP</th>\n",
       "      <th>TOTSALS</th>\n",
       "      <th>TOTSALS_INSTRUCTION</th>\n",
       "      <th>TOT_EMPLOY_BENEFITS</th>\n",
       "    </tr>\n",
       "  </thead>\n",
       "  <tbody>\n",
       "    <tr>\n",
       "      <th>count</th>\n",
       "      <td>14376.000000</td>\n",
       "      <td>1.437600e+04</td>\n",
       "      <td>14376.000000</td>\n",
       "      <td>14376.000000</td>\n",
       "      <td>1.437600e+04</td>\n",
       "      <td>1.437600e+04</td>\n",
       "      <td>14376.000000</td>\n",
       "      <td>14376.000000</td>\n",
       "      <td>14376.000000</td>\n",
       "      <td>14376.000000</td>\n",
       "      <td>...</td>\n",
       "      <td>1.437600e+04</td>\n",
       "      <td>14376.000000</td>\n",
       "      <td>14376.000000</td>\n",
       "      <td>1.437600e+04</td>\n",
       "      <td>1.437600e+04</td>\n",
       "      <td>14376.000000</td>\n",
       "      <td>14376.000000</td>\n",
       "      <td>1.437600e+04</td>\n",
       "      <td>1.437600e+04</td>\n",
       "      <td>1.437600e+04</td>\n",
       "    </tr>\n",
       "    <tr>\n",
       "      <th>mean</th>\n",
       "      <td>26.801336</td>\n",
       "      <td>2.728090e+13</td>\n",
       "      <td>2.883139</td>\n",
       "      <td>3374.682526</td>\n",
       "      <td>4.546951e+04</td>\n",
       "      <td>3.708038e+03</td>\n",
       "      <td>915.914858</td>\n",
       "      <td>752.781093</td>\n",
       "      <td>97.466055</td>\n",
       "      <td>7.383278</td>\n",
       "      <td>...</td>\n",
       "      <td>1.352417e+04</td>\n",
       "      <td>1625.927309</td>\n",
       "      <td>390.802657</td>\n",
       "      <td>3.627027e+03</td>\n",
       "      <td>2.751908e+03</td>\n",
       "      <td>215.163189</td>\n",
       "      <td>153.054535</td>\n",
       "      <td>2.240621e+04</td>\n",
       "      <td>1.509107e+04</td>\n",
       "      <td>7.978090e+03</td>\n",
       "    </tr>\n",
       "    <tr>\n",
       "      <th>std</th>\n",
       "      <td>13.894331</td>\n",
       "      <td>1.389514e+13</td>\n",
       "      <td>1.271649</td>\n",
       "      <td>14419.737037</td>\n",
       "      <td>2.590623e+05</td>\n",
       "      <td>2.021328e+04</td>\n",
       "      <td>5972.748111</td>\n",
       "      <td>3619.184513</td>\n",
       "      <td>598.404925</td>\n",
       "      <td>74.283373</td>\n",
       "      <td>...</td>\n",
       "      <td>5.894857e+04</td>\n",
       "      <td>7558.732209</td>\n",
       "      <td>2607.081469</td>\n",
       "      <td>2.614211e+04</td>\n",
       "      <td>2.428852e+04</td>\n",
       "      <td>1752.902688</td>\n",
       "      <td>974.844194</td>\n",
       "      <td>1.170061e+05</td>\n",
       "      <td>9.008237e+04</td>\n",
       "      <td>6.136424e+04</td>\n",
       "    </tr>\n",
       "    <tr>\n",
       "      <th>min</th>\n",
       "      <td>1.000000</td>\n",
       "      <td>1.500100e+12</td>\n",
       "      <td>1.000000</td>\n",
       "      <td>0.000000</td>\n",
       "      <td>0.000000e+00</td>\n",
       "      <td>0.000000e+00</td>\n",
       "      <td>0.000000</td>\n",
       "      <td>0.000000</td>\n",
       "      <td>0.000000</td>\n",
       "      <td>0.000000</td>\n",
       "      <td>...</td>\n",
       "      <td>0.000000e+00</td>\n",
       "      <td>0.000000</td>\n",
       "      <td>0.000000</td>\n",
       "      <td>0.000000e+00</td>\n",
       "      <td>0.000000e+00</td>\n",
       "      <td>0.000000</td>\n",
       "      <td>0.000000</td>\n",
       "      <td>0.000000e+00</td>\n",
       "      <td>0.000000e+00</td>\n",
       "      <td>0.000000e+00</td>\n",
       "    </tr>\n",
       "    <tr>\n",
       "      <th>25%</th>\n",
       "      <td>15.000000</td>\n",
       "      <td>1.550330e+13</td>\n",
       "      <td>3.000000</td>\n",
       "      <td>305.000000</td>\n",
       "      <td>5.241500e+03</td>\n",
       "      <td>2.920000e+02</td>\n",
       "      <td>54.000000</td>\n",
       "      <td>0.000000</td>\n",
       "      <td>0.000000</td>\n",
       "      <td>0.000000</td>\n",
       "      <td>...</td>\n",
       "      <td>1.577000e+03</td>\n",
       "      <td>170.000000</td>\n",
       "      <td>0.000000</td>\n",
       "      <td>1.260000e+02</td>\n",
       "      <td>0.000000e+00</td>\n",
       "      <td>0.000000</td>\n",
       "      <td>0.000000</td>\n",
       "      <td>2.439750e+03</td>\n",
       "      <td>1.580750e+03</td>\n",
       "      <td>6.927500e+02</td>\n",
       "    </tr>\n",
       "    <tr>\n",
       "      <th>50%</th>\n",
       "      <td>27.000000</td>\n",
       "      <td>2.750320e+13</td>\n",
       "      <td>3.000000</td>\n",
       "      <td>979.500000</td>\n",
       "      <td>1.402300e+04</td>\n",
       "      <td>8.470000e+02</td>\n",
       "      <td>180.000000</td>\n",
       "      <td>118.000000</td>\n",
       "      <td>10.000000</td>\n",
       "      <td>0.000000</td>\n",
       "      <td>...</td>\n",
       "      <td>4.279500e+03</td>\n",
       "      <td>470.000000</td>\n",
       "      <td>9.000000</td>\n",
       "      <td>5.060000e+02</td>\n",
       "      <td>1.310000e+02</td>\n",
       "      <td>0.000000</td>\n",
       "      <td>21.000000</td>\n",
       "      <td>6.580000e+03</td>\n",
       "      <td>4.387000e+03</td>\n",
       "      <td>2.181000e+03</td>\n",
       "    </tr>\n",
       "    <tr>\n",
       "      <th>75%</th>\n",
       "      <td>38.000000</td>\n",
       "      <td>3.850050e+13</td>\n",
       "      <td>3.000000</td>\n",
       "      <td>2744.250000</td>\n",
       "      <td>3.791375e+04</td>\n",
       "      <td>2.433500e+03</td>\n",
       "      <td>545.250000</td>\n",
       "      <td>532.000000</td>\n",
       "      <td>61.000000</td>\n",
       "      <td>0.000000</td>\n",
       "      <td>...</td>\n",
       "      <td>1.153675e+04</td>\n",
       "      <td>1250.000000</td>\n",
       "      <td>145.000000</td>\n",
       "      <td>1.923500e+03</td>\n",
       "      <td>1.050250e+03</td>\n",
       "      <td>2.000000</td>\n",
       "      <td>100.000000</td>\n",
       "      <td>1.831050e+04</td>\n",
       "      <td>1.219875e+04</td>\n",
       "      <td>6.485500e+03</td>\n",
       "    </tr>\n",
       "    <tr>\n",
       "      <th>max</th>\n",
       "      <td>51.000000</td>\n",
       "      <td>5.150230e+13</td>\n",
       "      <td>7.000000</td>\n",
       "      <td>995192.000000</td>\n",
       "      <td>2.543738e+07</td>\n",
       "      <td>1.307783e+06</td>\n",
       "      <td>379531.000000</td>\n",
       "      <td>248209.000000</td>\n",
       "      <td>43253.000000</td>\n",
       "      <td>3073.000000</td>\n",
       "      <td>...</td>\n",
       "      <td>4.694906e+06</td>\n",
       "      <td>538505.000000</td>\n",
       "      <td>134959.000000</td>\n",
       "      <td>2.623719e+06</td>\n",
       "      <td>2.498536e+06</td>\n",
       "      <td>73907.000000</td>\n",
       "      <td>80941.000000</td>\n",
       "      <td>1.092264e+07</td>\n",
       "      <td>9.118350e+06</td>\n",
       "      <td>6.558472e+06</td>\n",
       "    </tr>\n",
       "  </tbody>\n",
       "</table>\n",
       "<p>8 rows × 36 columns</p>\n",
       "</div>"
      ],
      "text/plain": [
       "              STATE      IDCENSUS        SCHLEV     ENROLLMENT      TOTALREV  \\\n",
       "count  14376.000000  1.437600e+04  14376.000000   14376.000000  1.437600e+04   \n",
       "mean      26.801336  2.728090e+13      2.883139    3374.682526  4.546951e+04   \n",
       "std       13.894331  1.389514e+13      1.271649   14419.737037  2.590623e+05   \n",
       "min        1.000000  1.500100e+12      1.000000       0.000000  0.000000e+00   \n",
       "25%       15.000000  1.550330e+13      3.000000     305.000000  5.241500e+03   \n",
       "50%       27.000000  2.750320e+13      3.000000     979.500000  1.402300e+04   \n",
       "75%       38.000000  3.850050e+13      3.000000    2744.250000  3.791375e+04   \n",
       "max       51.000000  5.150230e+13      7.000000  995192.000000  2.543738e+07   \n",
       "\n",
       "            TFEDREV     FED_TITLE1  FED_DISABILITIES      FED_STEM  \\\n",
       "count  1.437600e+04   14376.000000      14376.000000  14376.000000   \n",
       "mean   3.708038e+03     915.914858        752.781093     97.466055   \n",
       "std    2.021328e+04    5972.748111       3619.184513    598.404925   \n",
       "min    0.000000e+00       0.000000          0.000000      0.000000   \n",
       "25%    2.920000e+02      54.000000          0.000000      0.000000   \n",
       "50%    8.470000e+02     180.000000        118.000000     10.000000   \n",
       "75%    2.433500e+03     545.250000        532.000000     61.000000   \n",
       "max    1.307783e+06  379531.000000     248209.000000  43253.000000   \n",
       "\n",
       "          FED_DRUGS         ...               TCURSSVC        TCUROTH  \\\n",
       "count  14376.000000         ...           1.437600e+04   14376.000000   \n",
       "mean       7.383278         ...           1.352417e+04    1625.927309   \n",
       "std       74.283373         ...           5.894857e+04    7558.732209   \n",
       "min        0.000000         ...           0.000000e+00       0.000000   \n",
       "25%        0.000000         ...           1.577000e+03     170.000000   \n",
       "50%        0.000000         ...           4.279500e+03     470.000000   \n",
       "75%        0.000000         ...           1.153675e+04    1250.000000   \n",
       "max     3073.000000         ...           4.694906e+06  538505.000000   \n",
       "\n",
       "            NONELSEC       TCAPOUT  CONSTRUCTION_EXP      LAND_EXP  \\\n",
       "count   14376.000000  1.437600e+04      1.437600e+04  14376.000000   \n",
       "mean      390.802657  3.627027e+03      2.751908e+03    215.163189   \n",
       "std      2607.081469  2.614211e+04      2.428852e+04   1752.902688   \n",
       "min         0.000000  0.000000e+00      0.000000e+00      0.000000   \n",
       "25%         0.000000  1.260000e+02      0.000000e+00      0.000000   \n",
       "50%         9.000000  5.060000e+02      1.310000e+02      0.000000   \n",
       "75%       145.000000  1.923500e+03      1.050250e+03      2.000000   \n",
       "max    134959.000000  2.623719e+06      2.498536e+06  73907.000000   \n",
       "\n",
       "       INSTRUCTIONAL_EXP       TOTSALS  TOTSALS_INSTRUCTION  \\\n",
       "count       14376.000000  1.437600e+04         1.437600e+04   \n",
       "mean          153.054535  2.240621e+04         1.509107e+04   \n",
       "std           974.844194  1.170061e+05         9.008237e+04   \n",
       "min             0.000000  0.000000e+00         0.000000e+00   \n",
       "25%             0.000000  2.439750e+03         1.580750e+03   \n",
       "50%            21.000000  6.580000e+03         4.387000e+03   \n",
       "75%           100.000000  1.831050e+04         1.219875e+04   \n",
       "max         80941.000000  1.092264e+07         9.118350e+06   \n",
       "\n",
       "       TOT_EMPLOY_BENEFITS  \n",
       "count         1.437600e+04  \n",
       "mean          7.978090e+03  \n",
       "std           6.136424e+04  \n",
       "min           0.000000e+00  \n",
       "25%           6.927500e+02  \n",
       "50%           2.181000e+03  \n",
       "75%           6.485500e+03  \n",
       "max           6.558472e+06  \n",
       "\n",
       "[8 rows x 36 columns]"
      ]
     },
     "execution_count": 14,
     "metadata": {},
     "output_type": "execute_result"
    }
   ],
   "source": [
    "finances.describe()"
   ]
  },
  {
   "cell_type": "markdown",
   "metadata": {},
   "source": []
  },
  {
   "cell_type": "code",
   "execution_count": 15,
   "metadata": {
    "collapsed": false,
    "scrolled": true
   },
   "outputs": [
    {
     "data": {
      "text/plain": [
       "<seaborn.axisgrid.JointGrid at 0x11627bf60>"
      ]
     },
     "execution_count": 15,
     "metadata": {},
     "output_type": "execute_result"
    },
    {
     "data": {
      "image/png": "[encoded data removed]",
      "text/plain": [
       "<matplotlib.figure.Figure at 0x11627ba58>"
      ]
     },
     "metadata": {},
     "output_type": "display_data"
    }
   ],
   "source": [
    "sns.jointplot('ENROLLMENT', 'TOTALEXP', data=finances)"
   ]
  },
  {
   "cell_type": "code",
   "execution_count": 16,
   "metadata": {
    "collapsed": false
   },
   "outputs": [
    {
     "name": "stderr",
     "output_type": "stream",
     "text": [
      "/Applications/anaconda/lib/python3.5/site-packages/matplotlib/figure.py:397: UserWarning: matplotlib is currently using a non-GUI backend, so cannot show the figure\n",
      "  \"matplotlib is currently using a non-GUI backend, \"\n"
     ]
    },
    {
     "data": {
      "image/png": "[encoded data removed]",
      "text/plain": [
       "<matplotlib.figure.Figure at 0x11d49bbe0>"
      ]
     },
     "metadata": {},
     "output_type": "display_data"
    }
   ],
   "source": [
    "fig, ax = plt.subplots(3,1, figsize=(8, 15))\n",
    "\n",
    "totalexp = sns.barplot(x='STATE', y='TOTALEXP', data=finances, estimator=sum, ci=None, ax=ax[0])\n",
    "totalexp.set_xticks([4, 9, 14, 19, 24, 29, 34, 39, 44, 49])\n",
    "totalexp.set_xticklabels([5, 10, 15, 20, 25, 30, 35, 40, 45, 50])\n",
    "totalexp.set_title(\"Total Expenses\")\n",
    "\n",
    "totalrev = sns.barplot(x='STATE', y='TOTALREV', data=finances, estimator=sum, ci=None, ax=ax[1])\n",
    "totalrev.set_xticks([4, 9, 14, 19, 24, 29, 34, 39, 44, 49])\n",
    "totalrev.set_xticklabels([5, 10, 15, 20, 25, 30, 35, 40, 45, 50])\n",
    "totalrev.set_title(\"Total Revenue\")\n",
    "\n",
    "enrollment = sns.barplot(x='STATE', y='ENROLLMENT', data=finances, estimator=sum, ci=None, ax=ax[2])\n",
    "enrollment.set_xticks([4, 9, 14, 19, 24, 29, 34, 39, 44, 49])\n",
    "enrollment.set_xticklabels([5, 10, 15, 20, 25, 30, 35, 40, 45, 50])\n",
    "enrollment.set_title(\"Total Enrollment\")\n",
    "\n",
    "fig.show()"
   ]
  },
  {
   "cell_type": "code",
   "execution_count": 17,
   "metadata": {
    "collapsed": false
   },
   "outputs": [
    {
     "name": "stderr",
     "output_type": "stream",
     "text": [
      "/Applications/anaconda/lib/python3.5/site-packages/matplotlib/figure.py:397: UserWarning: matplotlib is currently using a non-GUI backend, so cannot show the figure\n",
      "  \"matplotlib is currently using a non-GUI backend, \"\n"
     ]
    },
    {
     "data": {
      "image/png": "[encoded data removed]",
      "text/plain": [
       "<matplotlib.figure.Figure at 0x11d9ffa90>"
      ]
     },
     "metadata": {},
     "output_type": "display_data"
    }
   ],
   "source": [
    "fig, ax = plt.subplots(3,1, figsize=(8, 15))\n",
    "\n",
    "tfedrev = sns.barplot(x='STATE', y='TFEDREV', data=finances, estimator=sum, ci=None, ax=ax[0])\n",
    "tfedrev.set_xticks([4, 9, 14, 19, 24, 29, 34, 39, 44, 49])\n",
    "tfedrev.set_xticklabels([5, 10, 15, 20, 25, 30, 35, 40, 45, 50])\n",
    "tfedrev.set_title(\"Total Federal Revenue\")\n",
    "\n",
    "tstrev = sns.barplot(x='STATE', y='TSTREV', data=finances, estimator=sum, ci=None, ax=ax[1])\n",
    "tstrev.set_xticks([4, 9, 14, 19, 24, 29, 34, 39, 44, 49])\n",
    "tstrev.set_xticklabels([5, 10, 15, 20, 25, 30, 35, 40, 45, 50])\n",
    "tstrev.set_title(\"Total State Revenue\")\n",
    "\n",
    "tlocrev = sns.barplot(x='STATE', y='TLOCREV', data=finances, estimator=sum, ci=None, ax=ax[2])\n",
    "tlocrev.set_xticks([4, 9, 14, 19, 24, 29, 34, 39, 44, 49])\n",
    "tlocrev.set_xticklabels([5, 10, 15, 20, 25, 30, 35, 40, 45, 50])\n",
    "tlocrev.set_title(\"Total Local Revenue\")\n",
    "\n",
    "fig.show()"
   ]
  },
  {
   "cell_type": "code",
   "execution_count": 18,
   "metadata": {
    "collapsed": false
   },
   "outputs": [
    {
     "name": "stdout",
     "output_type": "stream",
     "text": [
      "Aw, snap! We don't have an account for ''. Want to try again? You can authenticate with your email address or username. Sign in is not case sensitive.\n",
      "\n",
      "Don't have an account? plot.ly\n",
      "\n",
      "Questions? support@plot.ly\n"
     ]
    },
    {
     "ename": "PlotlyError",
     "evalue": "Because you didn't supply a 'file_id' in the call, we're assuming you're trying to snag a figure from a url. You supplied the url, '', we expected it to start with 'https://plot.ly'.\nRun help on this function for more information.",
     "output_type": "error",
     "traceback": [
      "\u001b[0;31m---------------------------------------------------------------------------\u001b[0m",
      "\u001b[0;31mPlotlyError\u001b[0m                               Traceback (most recent call last)",
      "\u001b[0;32m<ipython-input-18-915cb2614e42>\u001b[0m in \u001b[0;36m<module>\u001b[0;34m()\u001b[0m\n\u001b[1;32m     12\u001b[0m \u001b[0mtrace\u001b[0m \u001b[0;34m=\u001b[0m \u001b[0mgo\u001b[0m\u001b[0;34m.\u001b[0m\u001b[0mPie\u001b[0m\u001b[0;34m(\u001b[0m\u001b[0mlabels\u001b[0m \u001b[0;34m=\u001b[0m \u001b[0mlabels\u001b[0m\u001b[0;34m,\u001b[0m \u001b[0mvalues\u001b[0m \u001b[0;34m=\u001b[0m \u001b[0mvalues\u001b[0m\u001b[0;34m,\u001b[0m \u001b[0mname\u001b[0m \u001b[0;34m=\u001b[0m \u001b[0;34m\"Total Revenue From Federal Sources\"\u001b[0m\u001b[0;34m)\u001b[0m\u001b[0;34m\u001b[0m\u001b[0m\n\u001b[1;32m     13\u001b[0m \u001b[0;34m\u001b[0m\u001b[0m\n\u001b[0;32m---> 14\u001b[0;31m \u001b[0mpy\u001b[0m\u001b[0;34m.\u001b[0m\u001b[0miplot\u001b[0m\u001b[0;34m(\u001b[0m\u001b[0;34m[\u001b[0m\u001b[0mtrace\u001b[0m\u001b[0;34m]\u001b[0m\u001b[0;34m,\u001b[0m \u001b[0mfilename\u001b[0m \u001b[0;34m=\u001b[0m \u001b[0;34m'basic_pie_chart'\u001b[0m\u001b[0;34m)\u001b[0m\u001b[0;34m\u001b[0m\u001b[0m\n\u001b[0m",
      "\u001b[0;32m/Applications/anaconda/lib/python3.5/site-packages/plotly/plotly/plotly.py\u001b[0m in \u001b[0;36miplot\u001b[0;34m(figure_or_data, **plot_options)\u001b[0m\n\u001b[1;32m    157\u001b[0m         \u001b[0membed_options\u001b[0m\u001b[0;34m[\u001b[0m\u001b[0;34m'height'\u001b[0m\u001b[0;34m]\u001b[0m \u001b[0;34m=\u001b[0m \u001b[0mstr\u001b[0m\u001b[0;34m(\u001b[0m\u001b[0membed_options\u001b[0m\u001b[0;34m[\u001b[0m\u001b[0;34m'height'\u001b[0m\u001b[0;34m]\u001b[0m\u001b[0;34m)\u001b[0m \u001b[0;34m+\u001b[0m \u001b[0;34m'px'\u001b[0m\u001b[0;34m\u001b[0m\u001b[0m\n\u001b[1;32m    158\u001b[0m \u001b[0;34m\u001b[0m\u001b[0m\n\u001b[0;32m--> 159\u001b[0;31m     \u001b[0;32mreturn\u001b[0m \u001b[0mtools\u001b[0m\u001b[0;34m.\u001b[0m\u001b[0membed\u001b[0m\u001b[0;34m(\u001b[0m\u001b[0murl\u001b[0m\u001b[0;34m,\u001b[0m \u001b[0;34m**\u001b[0m\u001b[0membed_options\u001b[0m\u001b[0;34m)\u001b[0m\u001b[0;34m\u001b[0m\u001b[0m\n\u001b[0m\u001b[1;32m    160\u001b[0m \u001b[0;34m\u001b[0m\u001b[0m\n\u001b[1;32m    161\u001b[0m \u001b[0;34m\u001b[0m\u001b[0m\n",
      "\u001b[0;32m/Applications/anaconda/lib/python3.5/site-packages/plotly/tools.py\u001b[0m in \u001b[0;36membed\u001b[0;34m(file_owner_or_url, file_id, width, height)\u001b[0m\n\u001b[1;32m    388\u001b[0m         \u001b[0;32melse\u001b[0m\u001b[0;34m:\u001b[0m\u001b[0;34m\u001b[0m\u001b[0m\n\u001b[1;32m    389\u001b[0m             \u001b[0murl\u001b[0m \u001b[0;34m=\u001b[0m \u001b[0mfile_owner_or_url\u001b[0m\u001b[0;34m\u001b[0m\u001b[0m\n\u001b[0;32m--> 390\u001b[0;31m         \u001b[0;32mreturn\u001b[0m \u001b[0mPlotlyDisplay\u001b[0m\u001b[0;34m(\u001b[0m\u001b[0murl\u001b[0m\u001b[0;34m,\u001b[0m \u001b[0mwidth\u001b[0m\u001b[0;34m,\u001b[0m \u001b[0mheight\u001b[0m\u001b[0;34m)\u001b[0m\u001b[0;34m\u001b[0m\u001b[0m\n\u001b[0m\u001b[1;32m    391\u001b[0m     \u001b[0;32melse\u001b[0m\u001b[0;34m:\u001b[0m\u001b[0;34m\u001b[0m\u001b[0m\n\u001b[1;32m    392\u001b[0m         if (get_config_defaults()['plotly_domain']\n",
      "\u001b[0;32m/Applications/anaconda/lib/python3.5/site-packages/plotly/tools.py\u001b[0m in \u001b[0;36m__init__\u001b[0;34m(self, url, width, height)\u001b[0m\n\u001b[1;32m   1363\u001b[0m         \u001b[0;32mdef\u001b[0m \u001b[0m__init__\u001b[0m\u001b[0;34m(\u001b[0m\u001b[0mself\u001b[0m\u001b[0;34m,\u001b[0m \u001b[0murl\u001b[0m\u001b[0;34m,\u001b[0m \u001b[0mwidth\u001b[0m\u001b[0;34m,\u001b[0m \u001b[0mheight\u001b[0m\u001b[0;34m)\u001b[0m\u001b[0;34m:\u001b[0m\u001b[0;34m\u001b[0m\u001b[0m\n\u001b[1;32m   1364\u001b[0m             \u001b[0mself\u001b[0m\u001b[0;34m.\u001b[0m\u001b[0mresource\u001b[0m \u001b[0;34m=\u001b[0m \u001b[0murl\u001b[0m\u001b[0;34m\u001b[0m\u001b[0m\n\u001b[0;32m-> 1365\u001b[0;31m             \u001b[0mself\u001b[0m\u001b[0;34m.\u001b[0m\u001b[0membed_code\u001b[0m \u001b[0;34m=\u001b[0m \u001b[0mget_embed\u001b[0m\u001b[0;34m(\u001b[0m\u001b[0murl\u001b[0m\u001b[0;34m,\u001b[0m \u001b[0mwidth\u001b[0m\u001b[0;34m=\u001b[0m\u001b[0mwidth\u001b[0m\u001b[0;34m,\u001b[0m \u001b[0mheight\u001b[0m\u001b[0;34m=\u001b[0m\u001b[0mheight\u001b[0m\u001b[0;34m)\u001b[0m\u001b[0;34m\u001b[0m\u001b[0m\n\u001b[0m\u001b[1;32m   1366\u001b[0m             \u001b[0msuper\u001b[0m\u001b[0;34m(\u001b[0m\u001b[0mPlotlyDisplay\u001b[0m\u001b[0;34m,\u001b[0m \u001b[0mself\u001b[0m\u001b[0;34m)\u001b[0m\u001b[0;34m.\u001b[0m\u001b[0m__init__\u001b[0m\u001b[0;34m(\u001b[0m\u001b[0mdata\u001b[0m\u001b[0;34m=\u001b[0m\u001b[0mself\u001b[0m\u001b[0;34m.\u001b[0m\u001b[0membed_code\u001b[0m\u001b[0;34m)\u001b[0m\u001b[0;34m\u001b[0m\u001b[0m\n\u001b[1;32m   1367\u001b[0m \u001b[0;34m\u001b[0m\u001b[0m\n",
      "\u001b[0;32m/Applications/anaconda/lib/python3.5/site-packages/plotly/tools.py\u001b[0m in \u001b[0;36mget_embed\u001b[0;34m(file_owner_or_url, file_id, width, height)\u001b[0m\n\u001b[1;32m    293\u001b[0m                 \u001b[0;34m\"'{1}'.\"\u001b[0m\u001b[0;34m\u001b[0m\u001b[0m\n\u001b[1;32m    294\u001b[0m                 \u001b[0;34m\"\\nRun help on this function for more information.\"\u001b[0m\u001b[0;34m\u001b[0m\u001b[0m\n\u001b[0;32m--> 295\u001b[0;31m                 \"\".format(url, plotly_rest_url))\n\u001b[0m\u001b[1;32m    296\u001b[0m         \u001b[0murlsplit\u001b[0m \u001b[0;34m=\u001b[0m \u001b[0msix\u001b[0m\u001b[0;34m.\u001b[0m\u001b[0mmoves\u001b[0m\u001b[0;34m.\u001b[0m\u001b[0murllib\u001b[0m\u001b[0;34m.\u001b[0m\u001b[0mparse\u001b[0m\u001b[0;34m.\u001b[0m\u001b[0murlparse\u001b[0m\u001b[0;34m(\u001b[0m\u001b[0murl\u001b[0m\u001b[0;34m)\u001b[0m\u001b[0;34m\u001b[0m\u001b[0m\n\u001b[1;32m    297\u001b[0m         \u001b[0mfile_owner\u001b[0m \u001b[0;34m=\u001b[0m \u001b[0murlsplit\u001b[0m\u001b[0;34m.\u001b[0m\u001b[0mpath\u001b[0m\u001b[0;34m.\u001b[0m\u001b[0msplit\u001b[0m\u001b[0;34m(\u001b[0m\u001b[0;34m'/'\u001b[0m\u001b[0;34m)\u001b[0m\u001b[0;34m[\u001b[0m\u001b[0;36m1\u001b[0m\u001b[0;34m]\u001b[0m\u001b[0;34m.\u001b[0m\u001b[0msplit\u001b[0m\u001b[0;34m(\u001b[0m\u001b[0;34m'~'\u001b[0m\u001b[0;34m)\u001b[0m\u001b[0;34m[\u001b[0m\u001b[0;36m1\u001b[0m\u001b[0;34m]\u001b[0m\u001b[0;34m\u001b[0m\u001b[0m\n",
      "\u001b[0;31mPlotlyError\u001b[0m: Because you didn't supply a 'file_id' in the call, we're assuming you're trying to snag a figure from a url. You supplied the url, '', we expected it to start with 'https://plot.ly'.\nRun help on this function for more information."
     ]
    }
   ],
   "source": [
    "import plotly.plotly as py\n",
    "import plotly.graph_objs as go\n",
    "\n",
    "title1 = fed_sources[\"FED_TITLE1\"]\n",
    "disabilities = fed_sources[\"FED_DISABILITIES\"]\n",
    "stem = fed_sources[\"FED_STEM\"]\n",
    "drugs = fed_sources[\"FED_DRUGS\"]\n",
    "\n",
    "labels = ['Title 1', 'Children with disabilities - IDEA', 'Math, science, and teacher quality', 'Safe and drug-free schools']\n",
    "values = [sum(title1), sum(disabilities), sum(stem), sum(drugs)]\n",
    "\n",
    "trace = go.Pie(labels = labels, values = values, name = \"Total Revenue From Federal Sources\")\n",
    "\n",
    "py.iplot([trace], filename = 'basic_pie_chart')"
   ]
  },
  {
   "cell_type": "code",
   "execution_count": 19,
   "metadata": {
    "collapsed": false
   },
   "outputs": [
    {
     "name": "stdout",
     "output_type": "stream",
     "text": [
      "Aw, snap! We don't have an account for ''. Want to try again? You can authenticate with your email address or username. Sign in is not case sensitive.\n",
      "\n",
      "Don't have an account? plot.ly\n",
      "\n",
      "Questions? support@plot.ly\n"
     ]
    },
    {
     "ename": "PlotlyError",
     "evalue": "Because you didn't supply a 'file_id' in the call, we're assuming you're trying to snag a figure from a url. You supplied the url, '', we expected it to start with 'https://plot.ly'.\nRun help on this function for more information.",
     "output_type": "error",
     "traceback": [
      "\u001b[0;31m---------------------------------------------------------------------------\u001b[0m",
      "\u001b[0;31mPlotlyError\u001b[0m                               Traceback (most recent call last)",
      "\u001b[0;32m<ipython-input-19-925274a7e408>\u001b[0m in \u001b[0;36m<module>\u001b[0;34m()\u001b[0m\n\u001b[1;32m      9\u001b[0m \u001b[0mtrace\u001b[0m \u001b[0;34m=\u001b[0m \u001b[0mgo\u001b[0m\u001b[0;34m.\u001b[0m\u001b[0mPie\u001b[0m\u001b[0;34m(\u001b[0m\u001b[0mlabels\u001b[0m \u001b[0;34m=\u001b[0m \u001b[0mlabels\u001b[0m\u001b[0;34m,\u001b[0m \u001b[0mvalues\u001b[0m \u001b[0;34m=\u001b[0m \u001b[0mvalues\u001b[0m\u001b[0;34m,\u001b[0m \u001b[0mname\u001b[0m \u001b[0;34m=\u001b[0m \u001b[0;34m\"Total Revenue From State Sources\"\u001b[0m\u001b[0;34m)\u001b[0m\u001b[0;34m\u001b[0m\u001b[0m\n\u001b[1;32m     10\u001b[0m \u001b[0;34m\u001b[0m\u001b[0m\n\u001b[0;32m---> 11\u001b[0;31m \u001b[0mpy\u001b[0m\u001b[0;34m.\u001b[0m\u001b[0miplot\u001b[0m\u001b[0;34m(\u001b[0m\u001b[0;34m[\u001b[0m\u001b[0mtrace\u001b[0m\u001b[0;34m]\u001b[0m\u001b[0;34m,\u001b[0m \u001b[0mfilename\u001b[0m \u001b[0;34m=\u001b[0m \u001b[0;34m'basic_pie_chart'\u001b[0m\u001b[0;34m)\u001b[0m\u001b[0;34m\u001b[0m\u001b[0m\n\u001b[0m",
      "\u001b[0;32m/Applications/anaconda/lib/python3.5/site-packages/plotly/plotly/plotly.py\u001b[0m in \u001b[0;36miplot\u001b[0;34m(figure_or_data, **plot_options)\u001b[0m\n\u001b[1;32m    157\u001b[0m         \u001b[0membed_options\u001b[0m\u001b[0;34m[\u001b[0m\u001b[0;34m'height'\u001b[0m\u001b[0;34m]\u001b[0m \u001b[0;34m=\u001b[0m \u001b[0mstr\u001b[0m\u001b[0;34m(\u001b[0m\u001b[0membed_options\u001b[0m\u001b[0;34m[\u001b[0m\u001b[0;34m'height'\u001b[0m\u001b[0;34m]\u001b[0m\u001b[0;34m)\u001b[0m \u001b[0;34m+\u001b[0m \u001b[0;34m'px'\u001b[0m\u001b[0;34m\u001b[0m\u001b[0m\n\u001b[1;32m    158\u001b[0m \u001b[0;34m\u001b[0m\u001b[0m\n\u001b[0;32m--> 159\u001b[0;31m     \u001b[0;32mreturn\u001b[0m \u001b[0mtools\u001b[0m\u001b[0;34m.\u001b[0m\u001b[0membed\u001b[0m\u001b[0;34m(\u001b[0m\u001b[0murl\u001b[0m\u001b[0;34m,\u001b[0m \u001b[0;34m**\u001b[0m\u001b[0membed_options\u001b[0m\u001b[0;34m)\u001b[0m\u001b[0;34m\u001b[0m\u001b[0m\n\u001b[0m\u001b[1;32m    160\u001b[0m \u001b[0;34m\u001b[0m\u001b[0m\n\u001b[1;32m    161\u001b[0m \u001b[0;34m\u001b[0m\u001b[0m\n",
      "\u001b[0;32m/Applications/anaconda/lib/python3.5/site-packages/plotly/tools.py\u001b[0m in \u001b[0;36membed\u001b[0;34m(file_owner_or_url, file_id, width, height)\u001b[0m\n\u001b[1;32m    388\u001b[0m         \u001b[0;32melse\u001b[0m\u001b[0;34m:\u001b[0m\u001b[0;34m\u001b[0m\u001b[0m\n\u001b[1;32m    389\u001b[0m             \u001b[0murl\u001b[0m \u001b[0;34m=\u001b[0m \u001b[0mfile_owner_or_url\u001b[0m\u001b[0;34m\u001b[0m\u001b[0m\n\u001b[0;32m--> 390\u001b[0;31m         \u001b[0;32mreturn\u001b[0m \u001b[0mPlotlyDisplay\u001b[0m\u001b[0;34m(\u001b[0m\u001b[0murl\u001b[0m\u001b[0;34m,\u001b[0m \u001b[0mwidth\u001b[0m\u001b[0;34m,\u001b[0m \u001b[0mheight\u001b[0m\u001b[0;34m)\u001b[0m\u001b[0;34m\u001b[0m\u001b[0m\n\u001b[0m\u001b[1;32m    391\u001b[0m     \u001b[0;32melse\u001b[0m\u001b[0;34m:\u001b[0m\u001b[0;34m\u001b[0m\u001b[0m\n\u001b[1;32m    392\u001b[0m         if (get_config_defaults()['plotly_domain']\n",
      "\u001b[0;32m/Applications/anaconda/lib/python3.5/site-packages/plotly/tools.py\u001b[0m in \u001b[0;36m__init__\u001b[0;34m(self, url, width, height)\u001b[0m\n\u001b[1;32m   1363\u001b[0m         \u001b[0;32mdef\u001b[0m \u001b[0m__init__\u001b[0m\u001b[0;34m(\u001b[0m\u001b[0mself\u001b[0m\u001b[0;34m,\u001b[0m \u001b[0murl\u001b[0m\u001b[0;34m,\u001b[0m \u001b[0mwidth\u001b[0m\u001b[0;34m,\u001b[0m \u001b[0mheight\u001b[0m\u001b[0;34m)\u001b[0m\u001b[0;34m:\u001b[0m\u001b[0;34m\u001b[0m\u001b[0m\n\u001b[1;32m   1364\u001b[0m             \u001b[0mself\u001b[0m\u001b[0;34m.\u001b[0m\u001b[0mresource\u001b[0m \u001b[0;34m=\u001b[0m \u001b[0murl\u001b[0m\u001b[0;34m\u001b[0m\u001b[0m\n\u001b[0;32m-> 1365\u001b[0;31m             \u001b[0mself\u001b[0m\u001b[0;34m.\u001b[0m\u001b[0membed_code\u001b[0m \u001b[0;34m=\u001b[0m \u001b[0mget_embed\u001b[0m\u001b[0;34m(\u001b[0m\u001b[0murl\u001b[0m\u001b[0;34m,\u001b[0m \u001b[0mwidth\u001b[0m\u001b[0;34m=\u001b[0m\u001b[0mwidth\u001b[0m\u001b[0;34m,\u001b[0m \u001b[0mheight\u001b[0m\u001b[0;34m=\u001b[0m\u001b[0mheight\u001b[0m\u001b[0;34m)\u001b[0m\u001b[0;34m\u001b[0m\u001b[0m\n\u001b[0m\u001b[1;32m   1366\u001b[0m             \u001b[0msuper\u001b[0m\u001b[0;34m(\u001b[0m\u001b[0mPlotlyDisplay\u001b[0m\u001b[0;34m,\u001b[0m \u001b[0mself\u001b[0m\u001b[0;34m)\u001b[0m\u001b[0;34m.\u001b[0m\u001b[0m__init__\u001b[0m\u001b[0;34m(\u001b[0m\u001b[0mdata\u001b[0m\u001b[0;34m=\u001b[0m\u001b[0mself\u001b[0m\u001b[0;34m.\u001b[0m\u001b[0membed_code\u001b[0m\u001b[0;34m)\u001b[0m\u001b[0;34m\u001b[0m\u001b[0m\n\u001b[1;32m   1367\u001b[0m \u001b[0;34m\u001b[0m\u001b[0m\n",
      "\u001b[0;32m/Applications/anaconda/lib/python3.5/site-packages/plotly/tools.py\u001b[0m in \u001b[0;36mget_embed\u001b[0;34m(file_owner_or_url, file_id, width, height)\u001b[0m\n\u001b[1;32m    293\u001b[0m                 \u001b[0;34m\"'{1}'.\"\u001b[0m\u001b[0;34m\u001b[0m\u001b[0m\n\u001b[1;32m    294\u001b[0m                 \u001b[0;34m\"\\nRun help on this function for more information.\"\u001b[0m\u001b[0;34m\u001b[0m\u001b[0m\n\u001b[0;32m--> 295\u001b[0;31m                 \"\".format(url, plotly_rest_url))\n\u001b[0m\u001b[1;32m    296\u001b[0m         \u001b[0murlsplit\u001b[0m \u001b[0;34m=\u001b[0m \u001b[0msix\u001b[0m\u001b[0;34m.\u001b[0m\u001b[0mmoves\u001b[0m\u001b[0;34m.\u001b[0m\u001b[0murllib\u001b[0m\u001b[0;34m.\u001b[0m\u001b[0mparse\u001b[0m\u001b[0;34m.\u001b[0m\u001b[0murlparse\u001b[0m\u001b[0;34m(\u001b[0m\u001b[0murl\u001b[0m\u001b[0;34m)\u001b[0m\u001b[0;34m\u001b[0m\u001b[0m\n\u001b[1;32m    297\u001b[0m         \u001b[0mfile_owner\u001b[0m \u001b[0;34m=\u001b[0m \u001b[0murlsplit\u001b[0m\u001b[0;34m.\u001b[0m\u001b[0mpath\u001b[0m\u001b[0;34m.\u001b[0m\u001b[0msplit\u001b[0m\u001b[0;34m(\u001b[0m\u001b[0;34m'/'\u001b[0m\u001b[0;34m)\u001b[0m\u001b[0;34m[\u001b[0m\u001b[0;36m1\u001b[0m\u001b[0;34m]\u001b[0m\u001b[0;34m.\u001b[0m\u001b[0msplit\u001b[0m\u001b[0;34m(\u001b[0m\u001b[0;34m'~'\u001b[0m\u001b[0;34m)\u001b[0m\u001b[0;34m[\u001b[0m\u001b[0;36m1\u001b[0m\u001b[0;34m]\u001b[0m\u001b[0;34m\u001b[0m\u001b[0m\n",
      "\u001b[0;31mPlotlyError\u001b[0m: Because you didn't supply a 'file_id' in the call, we're assuming you're trying to snag a figure from a url. You supplied the url, '', we expected it to start with 'https://plot.ly'.\nRun help on this function for more information."
     ]
    }
   ],
   "source": [
    "staff = state_sources[\"STATE_STAFF\"]\n",
    "specialEd = state_sources[\"STATE_SPECIAL_ED\"]\n",
    "biling = state_sources[\"STATE_BILING\"]\n",
    "transportation = state_sources[\"STATE_TRANSPORTATION\"]\n",
    "\n",
    "labels = [\"Staff improvement programs\", \"Special education programs\", \"Bilingual education programs\", \"Transporation programs\"]\n",
    "values = [sum(staff), sum(specialEd), sum(biling), sum(transportation)]\n",
    "\n",
    "trace = go.Pie(labels = labels, values = values, name = \"Total Revenue From State Sources\")\n",
    "\n",
    "py.iplot([trace], filename = 'basic_pie_chart')"
   ]
  },
  {
   "cell_type": "code",
   "execution_count": 20,
   "metadata": {
    "collapsed": false
   },
   "outputs": [
    {
     "name": "stdout",
     "output_type": "stream",
     "text": [
      "Aw, snap! We don't have an account for ''. Want to try again? You can authenticate with your email address or username. Sign in is not case sensitive.\n",
      "\n",
      "Don't have an account? plot.ly\n",
      "\n",
      "Questions? support@plot.ly\n"
     ]
    },
    {
     "ename": "PlotlyError",
     "evalue": "Because you didn't supply a 'file_id' in the call, we're assuming you're trying to snag a figure from a url. You supplied the url, '', we expected it to start with 'https://plot.ly'.\nRun help on this function for more information.",
     "output_type": "error",
     "traceback": [
      "\u001b[0;31m---------------------------------------------------------------------------\u001b[0m",
      "\u001b[0;31mPlotlyError\u001b[0m                               Traceback (most recent call last)",
      "\u001b[0;32m<ipython-input-20-ebc1d62fc3aa>\u001b[0m in \u001b[0;36m<module>\u001b[0;34m()\u001b[0m\n\u001b[1;32m     13\u001b[0m \u001b[0mtrace\u001b[0m \u001b[0;34m=\u001b[0m \u001b[0mgo\u001b[0m\u001b[0;34m.\u001b[0m\u001b[0mPie\u001b[0m\u001b[0;34m(\u001b[0m\u001b[0mlabels\u001b[0m \u001b[0;34m=\u001b[0m \u001b[0mlabels\u001b[0m\u001b[0;34m,\u001b[0m \u001b[0mvalues\u001b[0m \u001b[0;34m=\u001b[0m \u001b[0mvalues\u001b[0m\u001b[0;34m,\u001b[0m \u001b[0mname\u001b[0m \u001b[0;34m=\u001b[0m \u001b[0;34m\"Total Revenue Local Sources\"\u001b[0m\u001b[0;34m)\u001b[0m\u001b[0;34m\u001b[0m\u001b[0m\n\u001b[1;32m     14\u001b[0m \u001b[0;34m\u001b[0m\u001b[0m\n\u001b[0;32m---> 15\u001b[0;31m \u001b[0mpy\u001b[0m\u001b[0;34m.\u001b[0m\u001b[0miplot\u001b[0m\u001b[0;34m(\u001b[0m\u001b[0;34m[\u001b[0m\u001b[0mtrace\u001b[0m\u001b[0;34m]\u001b[0m\u001b[0;34m,\u001b[0m \u001b[0mfilename\u001b[0m \u001b[0;34m=\u001b[0m \u001b[0;34m'basic_pie_chart'\u001b[0m\u001b[0;34m)\u001b[0m\u001b[0;34m\u001b[0m\u001b[0m\n\u001b[0m",
      "\u001b[0;32m/Applications/anaconda/lib/python3.5/site-packages/plotly/plotly/plotly.py\u001b[0m in \u001b[0;36miplot\u001b[0;34m(figure_or_data, **plot_options)\u001b[0m\n\u001b[1;32m    157\u001b[0m         \u001b[0membed_options\u001b[0m\u001b[0;34m[\u001b[0m\u001b[0;34m'height'\u001b[0m\u001b[0;34m]\u001b[0m \u001b[0;34m=\u001b[0m \u001b[0mstr\u001b[0m\u001b[0;34m(\u001b[0m\u001b[0membed_options\u001b[0m\u001b[0;34m[\u001b[0m\u001b[0;34m'height'\u001b[0m\u001b[0;34m]\u001b[0m\u001b[0;34m)\u001b[0m \u001b[0;34m+\u001b[0m \u001b[0;34m'px'\u001b[0m\u001b[0;34m\u001b[0m\u001b[0m\n\u001b[1;32m    158\u001b[0m \u001b[0;34m\u001b[0m\u001b[0m\n\u001b[0;32m--> 159\u001b[0;31m     \u001b[0;32mreturn\u001b[0m \u001b[0mtools\u001b[0m\u001b[0;34m.\u001b[0m\u001b[0membed\u001b[0m\u001b[0;34m(\u001b[0m\u001b[0murl\u001b[0m\u001b[0;34m,\u001b[0m \u001b[0;34m**\u001b[0m\u001b[0membed_options\u001b[0m\u001b[0;34m)\u001b[0m\u001b[0;34m\u001b[0m\u001b[0m\n\u001b[0m\u001b[1;32m    160\u001b[0m \u001b[0;34m\u001b[0m\u001b[0m\n\u001b[1;32m    161\u001b[0m \u001b[0;34m\u001b[0m\u001b[0m\n",
      "\u001b[0;32m/Applications/anaconda/lib/python3.5/site-packages/plotly/tools.py\u001b[0m in \u001b[0;36membed\u001b[0;34m(file_owner_or_url, file_id, width, height)\u001b[0m\n\u001b[1;32m    388\u001b[0m         \u001b[0;32melse\u001b[0m\u001b[0;34m:\u001b[0m\u001b[0;34m\u001b[0m\u001b[0m\n\u001b[1;32m    389\u001b[0m             \u001b[0murl\u001b[0m \u001b[0;34m=\u001b[0m \u001b[0mfile_owner_or_url\u001b[0m\u001b[0;34m\u001b[0m\u001b[0m\n\u001b[0;32m--> 390\u001b[0;31m         \u001b[0;32mreturn\u001b[0m \u001b[0mPlotlyDisplay\u001b[0m\u001b[0;34m(\u001b[0m\u001b[0murl\u001b[0m\u001b[0;34m,\u001b[0m \u001b[0mwidth\u001b[0m\u001b[0;34m,\u001b[0m \u001b[0mheight\u001b[0m\u001b[0;34m)\u001b[0m\u001b[0;34m\u001b[0m\u001b[0m\n\u001b[0m\u001b[1;32m    391\u001b[0m     \u001b[0;32melse\u001b[0m\u001b[0;34m:\u001b[0m\u001b[0;34m\u001b[0m\u001b[0m\n\u001b[1;32m    392\u001b[0m         if (get_config_defaults()['plotly_domain']\n",
      "\u001b[0;32m/Applications/anaconda/lib/python3.5/site-packages/plotly/tools.py\u001b[0m in \u001b[0;36m__init__\u001b[0;34m(self, url, width, height)\u001b[0m\n\u001b[1;32m   1363\u001b[0m         \u001b[0;32mdef\u001b[0m \u001b[0m__init__\u001b[0m\u001b[0;34m(\u001b[0m\u001b[0mself\u001b[0m\u001b[0;34m,\u001b[0m \u001b[0murl\u001b[0m\u001b[0;34m,\u001b[0m \u001b[0mwidth\u001b[0m\u001b[0;34m,\u001b[0m \u001b[0mheight\u001b[0m\u001b[0;34m)\u001b[0m\u001b[0;34m:\u001b[0m\u001b[0;34m\u001b[0m\u001b[0m\n\u001b[1;32m   1364\u001b[0m             \u001b[0mself\u001b[0m\u001b[0;34m.\u001b[0m\u001b[0mresource\u001b[0m \u001b[0;34m=\u001b[0m \u001b[0murl\u001b[0m\u001b[0;34m\u001b[0m\u001b[0m\n\u001b[0;32m-> 1365\u001b[0;31m             \u001b[0mself\u001b[0m\u001b[0;34m.\u001b[0m\u001b[0membed_code\u001b[0m \u001b[0;34m=\u001b[0m \u001b[0mget_embed\u001b[0m\u001b[0;34m(\u001b[0m\u001b[0murl\u001b[0m\u001b[0;34m,\u001b[0m \u001b[0mwidth\u001b[0m\u001b[0;34m=\u001b[0m\u001b[0mwidth\u001b[0m\u001b[0;34m,\u001b[0m \u001b[0mheight\u001b[0m\u001b[0;34m=\u001b[0m\u001b[0mheight\u001b[0m\u001b[0;34m)\u001b[0m\u001b[0;34m\u001b[0m\u001b[0m\n\u001b[0m\u001b[1;32m   1366\u001b[0m             \u001b[0msuper\u001b[0m\u001b[0;34m(\u001b[0m\u001b[0mPlotlyDisplay\u001b[0m\u001b[0;34m,\u001b[0m \u001b[0mself\u001b[0m\u001b[0;34m)\u001b[0m\u001b[0;34m.\u001b[0m\u001b[0m__init__\u001b[0m\u001b[0;34m(\u001b[0m\u001b[0mdata\u001b[0m\u001b[0;34m=\u001b[0m\u001b[0mself\u001b[0m\u001b[0;34m.\u001b[0m\u001b[0membed_code\u001b[0m\u001b[0;34m)\u001b[0m\u001b[0;34m\u001b[0m\u001b[0m\n\u001b[1;32m   1367\u001b[0m \u001b[0;34m\u001b[0m\u001b[0m\n",
      "\u001b[0;32m/Applications/anaconda/lib/python3.5/site-packages/plotly/tools.py\u001b[0m in \u001b[0;36mget_embed\u001b[0;34m(file_owner_or_url, file_id, width, height)\u001b[0m\n\u001b[1;32m    293\u001b[0m                 \u001b[0;34m\"'{1}'.\"\u001b[0m\u001b[0;34m\u001b[0m\u001b[0m\n\u001b[1;32m    294\u001b[0m                 \u001b[0;34m\"\\nRun help on this function for more information.\"\u001b[0m\u001b[0;34m\u001b[0m\u001b[0m\n\u001b[0;32m--> 295\u001b[0;31m                 \"\".format(url, plotly_rest_url))\n\u001b[0m\u001b[1;32m    296\u001b[0m         \u001b[0murlsplit\u001b[0m \u001b[0;34m=\u001b[0m \u001b[0msix\u001b[0m\u001b[0;34m.\u001b[0m\u001b[0mmoves\u001b[0m\u001b[0;34m.\u001b[0m\u001b[0murllib\u001b[0m\u001b[0;34m.\u001b[0m\u001b[0mparse\u001b[0m\u001b[0;34m.\u001b[0m\u001b[0murlparse\u001b[0m\u001b[0;34m(\u001b[0m\u001b[0murl\u001b[0m\u001b[0;34m)\u001b[0m\u001b[0;34m\u001b[0m\u001b[0m\n\u001b[1;32m    297\u001b[0m         \u001b[0mfile_owner\u001b[0m \u001b[0;34m=\u001b[0m \u001b[0murlsplit\u001b[0m\u001b[0;34m.\u001b[0m\u001b[0mpath\u001b[0m\u001b[0;34m.\u001b[0m\u001b[0msplit\u001b[0m\u001b[0;34m(\u001b[0m\u001b[0;34m'/'\u001b[0m\u001b[0;34m)\u001b[0m\u001b[0;34m[\u001b[0m\u001b[0;36m1\u001b[0m\u001b[0;34m]\u001b[0m\u001b[0;34m.\u001b[0m\u001b[0msplit\u001b[0m\u001b[0;34m(\u001b[0m\u001b[0;34m'~'\u001b[0m\u001b[0;34m)\u001b[0m\u001b[0;34m[\u001b[0m\u001b[0;36m1\u001b[0m\u001b[0;34m]\u001b[0m\u001b[0;34m\u001b[0m\u001b[0m\n",
      "\u001b[0;31mPlotlyError\u001b[0m: Because you didn't supply a 'file_id' in the call, we're assuming you're trying to snag a figure from a url. You supplied the url, '', we expected it to start with 'https://plot.ly'.\nRun help on this function for more information."
     ]
    }
   ],
   "source": [
    "property = local_sources[\"LOCAL_PROPERTY\"]\n",
    "cities = local_sources[\"LOCAL_REV_CITIES_COUNTIES\"]\n",
    "lunch = local_sources[\"LOCAL_LUNCH\"]\n",
    "district = local_sources[\"LOCAL_DISTRICT_ACTIVITY\"]\n",
    "other = local_sources[\"LOCAL_OTHER\"]\n",
    "private = local_sources[\"LOCAL_PRIVATE\"]\n",
    "misc = local_sources[\"LOCAL_MISCELLANEOUS\"]\n",
    "\n",
    "\n",
    "labels = [\"Property taxes\", \"Revenue from cities and counties\", \"School lunch revenues\", \"Distrinct activity receipts\", \"Other sales and service revenues\", \"Private contributions\", \"Miscellaneous other local revenues\"]\n",
    "values = [sum(property), sum(cities), sum(lunch), sum(district), sum(other), sum(private), sum(misc)]\n",
    "\n",
    "trace = go.Pie(labels = labels, values = values, name = \"Total Revenue Local Sources\")\n",
    "\n",
    "py.iplot([trace], filename = 'basic_pie_chart')"
   ]
  },
  {
   "cell_type": "code",
   "execution_count": 21,
   "metadata": {
    "collapsed": false
   },
   "outputs": [
    {
     "data": {
      "text/plain": [
       "array([3, 1, 5, 2, 6, 7])"
      ]
     },
     "execution_count": 21,
     "metadata": {},
     "output_type": "execute_result"
    }
   ],
   "source": [
    "fed_sources['SCHLEV'].unique()"
   ]
  },
  {
   "cell_type": "markdown",
   "metadata": {
    "collapsed": true
   },
   "source": [
    "### Logistic regression to determine School level (SCHLEV) based on enrollment:"
   ]
  },
  {
   "cell_type": "code",
   "execution_count": 22,
   "metadata": {
    "collapsed": false,
    "scrolled": false
   },
   "outputs": [],
   "source": [
    "#split into training and testing sets\n",
    "X = state_sources['ENROLLMENT']\n",
    "Y = np.array(state_sources['SCHLEV'])\n",
    "\n",
    "np.unique(Y)\n",
    "X_train, X_test, y_train, y_test = train_test_split(X, Y, test_size=0.3, random_state=0)\n",
    "X_train, Y_train = X_train.reshape(10063,1), y_train.reshape(10063,)"
   ]
  },
  {
   "cell_type": "markdown",
   "metadata": {},
   "source": [
    "The different labels of the training data are for the 6 different type of public school districts, which are:\n",
    "\n",
    "- 01 - Elementary School Only\n",
    "- 02 - Secondary School Only\n",
    "- 03 - Elementary-Secondary School system\n",
    "- 05 - Vocational or Special Education School System\n",
    "- 06 - Nonoperating School System\n",
    "- 07 - Educational Service Agency"
   ]
  },
  {
   "cell_type": "code",
   "execution_count": 23,
   "metadata": {
    "collapsed": false
   },
   "outputs": [
    {
     "data": {
      "text/plain": [
       "array([1, 2, 3, 5, 6, 7])"
      ]
     },
     "execution_count": 23,
     "metadata": {},
     "output_type": "execute_result"
    }
   ],
   "source": [
    "np.unique(y_train)"
   ]
  },
  {
   "cell_type": "code",
   "execution_count": 24,
   "metadata": {
    "collapsed": false
   },
   "outputs": [
    {
     "data": {
      "text/plain": [
       "0.77650799960250427"
      ]
     },
     "execution_count": 24,
     "metadata": {},
     "output_type": "execute_result"
    }
   ],
   "source": [
    "#Prediction for training data\n",
    "model = LogisticRegression(multi_class = 'multinomial', solver = 'lbfgs')\n",
    "model.fit(X_train, Y_train)\n",
    "model.score(X_train, Y_train)"
   ]
  },
  {
   "cell_type": "code",
   "execution_count": 25,
   "metadata": {
    "collapsed": false
   },
   "outputs": [
    {
     "name": "stdout",
     "output_type": "stream",
     "text": [
      "[3 3 3 ..., 3 3 3]\n"
     ]
    }
   ],
   "source": [
    "#Predict labels for test data, and determine accuracy \n",
    "X_test = X_test.reshape(-1,1)\n",
    "predicted = model.predict(X_test)\n",
    "print (predicted)"
   ]
  },
  {
   "cell_type": "code",
   "execution_count": 26,
   "metadata": {
    "collapsed": false
   },
   "outputs": [
    {
     "name": "stdout",
     "output_type": "stream",
     "text": [
      "0.783909111987\n"
     ]
    },
    {
     "data": {
      "image/png": "[encoded data removed]",
      "text/plain": [
       "<matplotlib.figure.Figure at 0x121a1ccf8>"
      ]
     },
     "metadata": {},
     "output_type": "display_data"
    }
   ],
   "source": [
    "#Get test accuracy, and confusion matrix\n",
    "print (metrics.accuracy_score(y_test, predicted))\n",
    "from sklearn.metrics import confusion_matrix\n",
    "\n",
    "mat = confusion_matrix(y_test, predicted)\n",
    "\n",
    "sns.heatmap(mat, square=True, annot=True, cbar=False)\n",
    "plt.xlabel('predicted value')\n",
    "plt.ylabel('true value');\n",
    "\n",
    "plt.show()"
   ]
  },
  {
   "cell_type": "markdown",
   "metadata": {},
   "source": [
    "This confusion matrix shows that logistic regression is probably not the right method to approach this prediction model and/or the data is not very useful."
   ]
  },
  {
   "cell_type": "code",
   "execution_count": 27,
   "metadata": {
    "collapsed": false
   },
   "outputs": [
    {
     "data": {
      "image/png": "[encoded data removed]",
      "text/plain": [
       "<matplotlib.figure.Figure at 0x121a52630>"
      ]
     },
     "metadata": {},
     "output_type": "display_data"
    },
    {
     "name": "stdout",
     "output_type": "stream",
     "text": [
      "Coefficients: \n",
      " [[ 1.33330816]]\n",
      "Mean squared error: 42046321.44\n",
      "Variance score: 0.73\n"
     ]
    }
   ],
   "source": [
    "from sklearn import datasets, linear_model\n",
    " \n",
    "# Plot Axes\n",
    "X = fed_sources['ENROLLMENT']\n",
    "Y = finances['TFEDREV']\n",
    " \n",
    "X = X.reshape(len(X),1)\n",
    "Y = Y.reshape(len(Y),1)\n",
    "\n",
    "dimension = 4500\n",
    "# Split the data into training/testing sets\n",
    "X_train = X[:-dimension]\n",
    "X_test = X[-dimension:]\n",
    " \n",
    "# Split the targets into training/testing sets\n",
    "Y_train = Y[:-dimension]\n",
    "Y_test = Y[-dimension:]\n",
    " \n",
    "# Plot outputs\n",
    "plt.scatter(X_test, Y_test,  color='black')\n",
    "plt.title('Regression of Total Federal Revenue vs Enrollment')\n",
    "plt.xlabel('Enrollment')\n",
    "plt.ylabel('Total Federal Revenue')\n",
    "plt.xticks(())\n",
    "plt.yticks(())\n",
    " \n",
    "regr = linear_model.LinearRegression()\n",
    " \n",
    "# Train the model using the training sets\n",
    "regr.fit(X_train, Y_train)\n",
    " \n",
    "# Plot outputs\n",
    "plt.plot(X_test, regr.predict(X_test), color='red',linewidth=3)\n",
    "\n",
    "plt.show()\n",
    "\n",
    "# The coefficients\n",
    "print('Coefficients: \\n', regr.coef_)\n",
    "\n",
    "# The mean squared error\n",
    "print(\"Mean squared error: %.2f\" % np.mean((regr.predict(X_test) - Y_test) ** 2))\n",
    "\n",
    "# Explained variance score: 1 is perfect prediction\n",
    "print('Variance score: %.2f' % regr.score(X_test, Y_test))\n"
   ]
  },
  {
   "cell_type": "code",
   "execution_count": null,
   "metadata": {
    "collapsed": true
   },
   "outputs": [],
   "source": []
  }
 ],
 "metadata": {
  "anaconda-cloud": {},
  "kernelspec": {
   "display_name": "Python [default]",
   "language": "python",
   "name": "python3"
  },
  "language_info": {
   "codemirror_mode": {
    "name": "ipython",
    "version": 3
   },
   "file_extension": ".py",
   "mimetype": "text/x-python",
   "name": "python",
   "nbconvert_exporter": "python",
   "pygments_lexer": "ipython3",
   "version": "3.5.2"
  }
 },
 "nbformat": 4,
 "nbformat_minor": 1
}
